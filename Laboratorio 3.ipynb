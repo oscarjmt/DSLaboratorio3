{
 "cells": [
  {
   "cell_type": "markdown",
   "id": "b95eb391",
   "metadata": {},
   "source": [
    "Diego Castellanos 20082\n",
    "\n",
    "Oscar Méndez 20402\n",
    "\n",
    "# Laboratorio 3: Deep Learning"
   ]
  },
  {
   "cell_type": "code",
   "execution_count": 1,
   "id": "c3c7b311",
   "metadata": {},
   "outputs": [],
   "source": [
    "import pandas as pd\n",
    "import numpy as np\n",
    "\n",
    "import matplotlib.pyplot as plt\n",
    "import seaborn as sns\n",
    "\n",
    "from sklearn.model_selection import train_test_split\n",
    "from tensorflow.keras.models import Sequential\n",
    "from tensorflow.keras.layers import Dense, Conv2D, MaxPooling2D, Flatten\n",
    "from sklearn.multioutput import MultiOutputClassifier\n",
    "from sklearn.metrics import accuracy_score\n",
    "import xgboost as xgb"
   ]
  },
  {
   "cell_type": "markdown",
   "id": "660680bc",
   "metadata": {},
   "source": [
    "## Ejercicio 1"
   ]
  },
  {
   "cell_type": "code",
   "execution_count": 2,
   "id": "423aea79",
   "metadata": {},
   "outputs": [],
   "source": [
    "df = pd.read_csv('train.csv')\n",
    "test = pd.read_csv('test.csv')"
   ]
  },
  {
   "cell_type": "markdown",
   "id": "7a69ab26",
   "metadata": {},
   "source": [
    "### 1.1. Análisis Exploratorio"
   ]
  },
  {
   "cell_type": "code",
   "execution_count": 3,
   "id": "bb0c0a27",
   "metadata": {},
   "outputs": [
    {
     "data": {
      "text/html": [
       "<div>\n",
       "<style scoped>\n",
       "    .dataframe tbody tr th:only-of-type {\n",
       "        vertical-align: middle;\n",
       "    }\n",
       "\n",
       "    .dataframe tbody tr th {\n",
       "        vertical-align: top;\n",
       "    }\n",
       "\n",
       "    .dataframe thead th {\n",
       "        text-align: right;\n",
       "    }\n",
       "</style>\n",
       "<table border=\"1\" class=\"dataframe\">\n",
       "  <thead>\n",
       "    <tr style=\"text-align: right;\">\n",
       "      <th></th>\n",
       "      <th>label</th>\n",
       "      <th>pixel0</th>\n",
       "      <th>pixel1</th>\n",
       "      <th>pixel2</th>\n",
       "      <th>pixel3</th>\n",
       "      <th>pixel4</th>\n",
       "      <th>pixel5</th>\n",
       "      <th>pixel6</th>\n",
       "      <th>pixel7</th>\n",
       "      <th>pixel8</th>\n",
       "      <th>...</th>\n",
       "      <th>pixel774</th>\n",
       "      <th>pixel775</th>\n",
       "      <th>pixel776</th>\n",
       "      <th>pixel777</th>\n",
       "      <th>pixel778</th>\n",
       "      <th>pixel779</th>\n",
       "      <th>pixel780</th>\n",
       "      <th>pixel781</th>\n",
       "      <th>pixel782</th>\n",
       "      <th>pixel783</th>\n",
       "    </tr>\n",
       "  </thead>\n",
       "  <tbody>\n",
       "    <tr>\n",
       "      <th>0</th>\n",
       "      <td>1</td>\n",
       "      <td>0</td>\n",
       "      <td>0</td>\n",
       "      <td>0</td>\n",
       "      <td>0</td>\n",
       "      <td>0</td>\n",
       "      <td>0</td>\n",
       "      <td>0</td>\n",
       "      <td>0</td>\n",
       "      <td>0</td>\n",
       "      <td>...</td>\n",
       "      <td>0</td>\n",
       "      <td>0</td>\n",
       "      <td>0</td>\n",
       "      <td>0</td>\n",
       "      <td>0</td>\n",
       "      <td>0</td>\n",
       "      <td>0</td>\n",
       "      <td>0</td>\n",
       "      <td>0</td>\n",
       "      <td>0</td>\n",
       "    </tr>\n",
       "    <tr>\n",
       "      <th>1</th>\n",
       "      <td>0</td>\n",
       "      <td>0</td>\n",
       "      <td>0</td>\n",
       "      <td>0</td>\n",
       "      <td>0</td>\n",
       "      <td>0</td>\n",
       "      <td>0</td>\n",
       "      <td>0</td>\n",
       "      <td>0</td>\n",
       "      <td>0</td>\n",
       "      <td>...</td>\n",
       "      <td>0</td>\n",
       "      <td>0</td>\n",
       "      <td>0</td>\n",
       "      <td>0</td>\n",
       "      <td>0</td>\n",
       "      <td>0</td>\n",
       "      <td>0</td>\n",
       "      <td>0</td>\n",
       "      <td>0</td>\n",
       "      <td>0</td>\n",
       "    </tr>\n",
       "    <tr>\n",
       "      <th>2</th>\n",
       "      <td>1</td>\n",
       "      <td>0</td>\n",
       "      <td>0</td>\n",
       "      <td>0</td>\n",
       "      <td>0</td>\n",
       "      <td>0</td>\n",
       "      <td>0</td>\n",
       "      <td>0</td>\n",
       "      <td>0</td>\n",
       "      <td>0</td>\n",
       "      <td>...</td>\n",
       "      <td>0</td>\n",
       "      <td>0</td>\n",
       "      <td>0</td>\n",
       "      <td>0</td>\n",
       "      <td>0</td>\n",
       "      <td>0</td>\n",
       "      <td>0</td>\n",
       "      <td>0</td>\n",
       "      <td>0</td>\n",
       "      <td>0</td>\n",
       "    </tr>\n",
       "    <tr>\n",
       "      <th>3</th>\n",
       "      <td>4</td>\n",
       "      <td>0</td>\n",
       "      <td>0</td>\n",
       "      <td>0</td>\n",
       "      <td>0</td>\n",
       "      <td>0</td>\n",
       "      <td>0</td>\n",
       "      <td>0</td>\n",
       "      <td>0</td>\n",
       "      <td>0</td>\n",
       "      <td>...</td>\n",
       "      <td>0</td>\n",
       "      <td>0</td>\n",
       "      <td>0</td>\n",
       "      <td>0</td>\n",
       "      <td>0</td>\n",
       "      <td>0</td>\n",
       "      <td>0</td>\n",
       "      <td>0</td>\n",
       "      <td>0</td>\n",
       "      <td>0</td>\n",
       "    </tr>\n",
       "    <tr>\n",
       "      <th>4</th>\n",
       "      <td>0</td>\n",
       "      <td>0</td>\n",
       "      <td>0</td>\n",
       "      <td>0</td>\n",
       "      <td>0</td>\n",
       "      <td>0</td>\n",
       "      <td>0</td>\n",
       "      <td>0</td>\n",
       "      <td>0</td>\n",
       "      <td>0</td>\n",
       "      <td>...</td>\n",
       "      <td>0</td>\n",
       "      <td>0</td>\n",
       "      <td>0</td>\n",
       "      <td>0</td>\n",
       "      <td>0</td>\n",
       "      <td>0</td>\n",
       "      <td>0</td>\n",
       "      <td>0</td>\n",
       "      <td>0</td>\n",
       "      <td>0</td>\n",
       "    </tr>\n",
       "  </tbody>\n",
       "</table>\n",
       "<p>5 rows × 785 columns</p>\n",
       "</div>"
      ],
      "text/plain": [
       "   label  pixel0  pixel1  pixel2  pixel3  pixel4  pixel5  pixel6  pixel7  \\\n",
       "0      1       0       0       0       0       0       0       0       0   \n",
       "1      0       0       0       0       0       0       0       0       0   \n",
       "2      1       0       0       0       0       0       0       0       0   \n",
       "3      4       0       0       0       0       0       0       0       0   \n",
       "4      0       0       0       0       0       0       0       0       0   \n",
       "\n",
       "   pixel8  ...  pixel774  pixel775  pixel776  pixel777  pixel778  pixel779  \\\n",
       "0       0  ...         0         0         0         0         0         0   \n",
       "1       0  ...         0         0         0         0         0         0   \n",
       "2       0  ...         0         0         0         0         0         0   \n",
       "3       0  ...         0         0         0         0         0         0   \n",
       "4       0  ...         0         0         0         0         0         0   \n",
       "\n",
       "   pixel780  pixel781  pixel782  pixel783  \n",
       "0         0         0         0         0  \n",
       "1         0         0         0         0  \n",
       "2         0         0         0         0  \n",
       "3         0         0         0         0  \n",
       "4         0         0         0         0  \n",
       "\n",
       "[5 rows x 785 columns]"
      ]
     },
     "execution_count": 3,
     "metadata": {},
     "output_type": "execute_result"
    }
   ],
   "source": [
    "df.head()"
   ]
  },
  {
   "cell_type": "markdown",
   "id": "71e6e580",
   "metadata": {},
   "source": [
    "Primero revisamos que todos los datos sean enteros y no hayan nulos."
   ]
  },
  {
   "cell_type": "code",
   "execution_count": 4,
   "id": "651131c1",
   "metadata": {},
   "outputs": [
    {
     "name": "stdout",
     "output_type": "stream",
     "text": [
      "Tipos de datos: [dtype('int64')]\n",
      "Cantidad de NAs: 0\n"
     ]
    }
   ],
   "source": [
    "print('Tipos de datos:', df.dtypes.unique())\n",
    "print('Cantidad de NAs:', df.isna().sum().sum())"
   ]
  },
  {
   "cell_type": "markdown",
   "id": "66cbc456",
   "metadata": {},
   "source": [
    "Ahora revisamos aleatoriamente unas muestras para ver si las imagenes corresponden a numeros."
   ]
  },
  {
   "cell_type": "code",
   "execution_count": 5,
   "id": "2f4d2310",
   "metadata": {},
   "outputs": [
    {
     "data": {
      "image/png": "[encoded data removed]",
      "text/plain": [
       "<Figure size 432x288 with 1 Axes>"
      ]
     },
     "metadata": {
      "needs_background": "light"
     },
     "output_type": "display_data"
    },
    {
     "data": {
      "image/png": "[encoded data removed]",
      "text/plain": [
       "<Figure size 432x288 with 1 Axes>"
      ]
     },
     "metadata": {
      "needs_background": "light"
     },
     "output_type": "display_data"
    },
    {
     "data": {
      "image/png": "[encoded data removed]",
      "text/plain": [
       "<Figure size 432x288 with 1 Axes>"
      ]
     },
     "metadata": {
      "needs_background": "light"
     },
     "output_type": "display_data"
    },
    {
     "data": {
      "image/png": "[encoded data removed]",
      "text/plain": [
       "<Figure size 432x288 with 1 Axes>"
      ]
     },
     "metadata": {
      "needs_background": "light"
     },
     "output_type": "display_data"
    },
    {
     "data": {
      "image/png": "[encoded data removed]",
      "text/plain": [
       "<Figure size 432x288 with 1 Axes>"
      ]
     },
     "metadata": {
      "needs_background": "light"
     },
     "output_type": "display_data"
    },
    {
     "data": {
      "image/png": "[encoded data removed]",
      "text/plain": [
       "<Figure size 432x288 with 1 Axes>"
      ]
     },
     "metadata": {
      "needs_background": "light"
     },
     "output_type": "display_data"
    },
    {
     "data": {
      "image/png": "[encoded data removed]",
      "text/plain": [
       "<Figure size 432x288 with 1 Axes>"
      ]
     },
     "metadata": {
      "needs_background": "light"
     },
     "output_type": "display_data"
    },
    {
     "data": {
      "image/png": "[encoded data removed]",
      "text/plain": [
       "<Figure size 432x288 with 1 Axes>"
      ]
     },
     "metadata": {
      "needs_background": "light"
     },
     "output_type": "display_data"
    },
    {
     "data": {
      "image/png": "[encoded data removed]",
      "text/plain": [
       "<Figure size 432x288 with 1 Axes>"
      ]
     },
     "metadata": {
      "needs_background": "light"
     },
     "output_type": "display_data"
    },
    {
     "data": {
      "image/png": "[encoded data removed]",
      "text/plain": [
       "<Figure size 432x288 with 1 Axes>"
      ]
     },
     "metadata": {
      "needs_background": "light"
     },
     "output_type": "display_data"
    },
    {
     "data": {
      "image/png": "[encoded data removed]",
      "text/plain": [
       "<Figure size 432x288 with 1 Axes>"
      ]
     },
     "metadata": {
      "needs_background": "light"
     },
     "output_type": "display_data"
    },
    {
     "data": {
      "image/png": "[encoded data removed]",
      "text/plain": [
       "<Figure size 432x288 with 1 Axes>"
      ]
     },
     "metadata": {
      "needs_background": "light"
     },
     "output_type": "display_data"
    },
    {
     "data": {
      "image/png": "[encoded data removed]",
      "text/plain": [
       "<Figure size 432x288 with 1 Axes>"
      ]
     },
     "metadata": {
      "needs_background": "light"
     },
     "output_type": "display_data"
    },
    {
     "data": {
      "image/png": "[encoded data removed]",
      "text/plain": [
       "<Figure size 432x288 with 1 Axes>"
      ]
     },
     "metadata": {
      "needs_background": "light"
     },
     "output_type": "display_data"
    },
    {
     "data": {
      "image/png": "[encoded data removed]",
      "text/plain": [
       "<Figure size 432x288 with 1 Axes>"
      ]
     },
     "metadata": {
      "needs_background": "light"
     },
     "output_type": "display_data"
    }
   ],
   "source": [
    "X = df.drop('label', axis=1)\n",
    "y = df['label']\n",
    "\n",
    "for i in range(15):\n",
    "    im = np.random.randint(0, len(df)-1)\n",
    "    plt.imshow(X.loc[im, :].values.reshape((28, 28)), cmap='gray')\n",
    "    plt.title(y[im])\n",
    "    plt.show()"
   ]
  },
  {
   "cell_type": "markdown",
   "id": "71bb7fbc",
   "metadata": {},
   "source": [
    "Tambien consideramos necesario revisar cuantas imagenes hay por numero, y ver si todas corresponden a dígitos del 0 al 9."
   ]
  },
  {
   "cell_type": "code",
   "execution_count": 6,
   "id": "f07ae7ee",
   "metadata": {},
   "outputs": [
    {
     "data": {
      "text/plain": [
       "0    4132\n",
       "1    4684\n",
       "2    4177\n",
       "3    4351\n",
       "4    4072\n",
       "5    3795\n",
       "6    4137\n",
       "7    4401\n",
       "8    4063\n",
       "9    4188\n",
       "Name: label, dtype: int64"
      ]
     },
     "execution_count": 6,
     "metadata": {},
     "output_type": "execute_result"
    }
   ],
   "source": [
    "y.value_counts().sort_index()"
   ]
  },
  {
   "cell_type": "markdown",
   "id": "6686e46b",
   "metadata": {},
   "source": [
    "### 1.2. Redes Neuronales Simples"
   ]
  },
  {
   "cell_type": "code",
   "execution_count": 18,
   "id": "d9896cfd",
   "metadata": {},
   "outputs": [],
   "source": [
    "Y = pd.get_dummies(y)\n",
    "X_train, X_test, Y_train, Y_test = train_test_split(X, Y, test_size=0.20)"
   ]
  },
  {
   "cell_type": "code",
   "execution_count": 26,
   "id": "4aee130f",
   "metadata": {},
   "outputs": [],
   "source": [
    "model_1_2 = Sequential()\n",
    "model_1_2.add(Dense(84, input_shape=(784,), activation='relu'))\n",
    "model_1_2.add(Dense(56, activation='relu'))\n",
    "model_1_2.add(Dense(10, activation='softmax'))"
   ]
  },
  {
   "cell_type": "code",
   "execution_count": 27,
   "id": "acb0097e",
   "metadata": {},
   "outputs": [
    {
     "name": "stdout",
     "output_type": "stream",
     "text": [
      "Epoch 1/100\n",
      "53/53 - 1s - loss: 12.1476 - accuracy: 0.6353 - val_loss: 2.7650 - val_accuracy: 0.7804 - 1s/epoch - 24ms/step\n",
      "Epoch 2/100\n",
      "53/53 - 0s - loss: 1.8733 - accuracy: 0.8158 - val_loss: 1.6730 - val_accuracy: 0.8052 - 400ms/epoch - 8ms/step\n",
      "Epoch 3/100\n",
      "53/53 - 0s - loss: 1.0813 - accuracy: 0.8391 - val_loss: 1.1945 - val_accuracy: 0.8241 - 399ms/epoch - 8ms/step\n",
      "Epoch 4/100\n",
      "53/53 - 0s - loss: 0.7595 - accuracy: 0.8575 - val_loss: 0.9846 - val_accuracy: 0.8348 - 355ms/epoch - 7ms/step\n",
      "Epoch 5/100\n",
      "53/53 - 0s - loss: 0.5857 - accuracy: 0.8773 - val_loss: 0.8853 - val_accuracy: 0.8533 - 372ms/epoch - 7ms/step\n",
      "Epoch 6/100\n",
      "53/53 - 0s - loss: 0.4601 - accuracy: 0.8959 - val_loss: 0.7873 - val_accuracy: 0.8615 - 362ms/epoch - 7ms/step\n",
      "Epoch 7/100\n",
      "53/53 - 0s - loss: 0.3830 - accuracy: 0.9078 - val_loss: 0.7594 - val_accuracy: 0.8696 - 367ms/epoch - 7ms/step\n",
      "Epoch 8/100\n",
      "53/53 - 0s - loss: 0.3284 - accuracy: 0.9179 - val_loss: 0.7473 - val_accuracy: 0.8732 - 401ms/epoch - 8ms/step\n",
      "Epoch 9/100\n",
      "53/53 - 0s - loss: 0.2798 - accuracy: 0.9262 - val_loss: 0.6748 - val_accuracy: 0.8781 - 373ms/epoch - 7ms/step\n",
      "Epoch 10/100\n",
      "53/53 - 0s - loss: 0.2409 - accuracy: 0.9345 - val_loss: 0.6737 - val_accuracy: 0.8821 - 365ms/epoch - 7ms/step\n",
      "Epoch 11/100\n",
      "53/53 - 0s - loss: 0.2203 - accuracy: 0.9371 - val_loss: 0.6364 - val_accuracy: 0.8876 - 360ms/epoch - 7ms/step\n",
      "Epoch 12/100\n",
      "53/53 - 0s - loss: 0.1923 - accuracy: 0.9449 - val_loss: 0.6301 - val_accuracy: 0.8927 - 381ms/epoch - 7ms/step\n",
      "Epoch 13/100\n",
      "53/53 - 0s - loss: 0.1707 - accuracy: 0.9513 - val_loss: 0.6120 - val_accuracy: 0.8938 - 357ms/epoch - 7ms/step\n",
      "Epoch 14/100\n",
      "53/53 - 0s - loss: 0.1557 - accuracy: 0.9544 - val_loss: 0.6190 - val_accuracy: 0.9000 - 388ms/epoch - 7ms/step\n",
      "Epoch 15/100\n",
      "53/53 - 0s - loss: 0.1415 - accuracy: 0.9574 - val_loss: 0.5845 - val_accuracy: 0.8996 - 362ms/epoch - 7ms/step\n",
      "Epoch 16/100\n",
      "53/53 - 0s - loss: 0.1285 - accuracy: 0.9618 - val_loss: 0.5980 - val_accuracy: 0.9016 - 357ms/epoch - 7ms/step\n",
      "Epoch 17/100\n",
      "53/53 - 0s - loss: 0.1159 - accuracy: 0.9632 - val_loss: 0.5925 - val_accuracy: 0.9040 - 411ms/epoch - 8ms/step\n",
      "Epoch 18/100\n",
      "53/53 - 0s - loss: 0.1031 - accuracy: 0.9682 - val_loss: 0.5912 - val_accuracy: 0.9071 - 389ms/epoch - 7ms/step\n",
      "Epoch 19/100\n",
      "53/53 - 0s - loss: 0.0965 - accuracy: 0.9694 - val_loss: 0.5889 - val_accuracy: 0.9076 - 402ms/epoch - 8ms/step\n",
      "Epoch 20/100\n",
      "53/53 - 0s - loss: 0.0902 - accuracy: 0.9714 - val_loss: 0.5811 - val_accuracy: 0.9094 - 452ms/epoch - 9ms/step\n",
      "Epoch 21/100\n",
      "53/53 - 0s - loss: 0.0820 - accuracy: 0.9742 - val_loss: 0.5938 - val_accuracy: 0.9077 - 445ms/epoch - 8ms/step\n",
      "Epoch 22/100\n",
      "53/53 - 0s - loss: 0.0770 - accuracy: 0.9747 - val_loss: 0.5678 - val_accuracy: 0.9097 - 412ms/epoch - 8ms/step\n",
      "Epoch 23/100\n",
      "53/53 - 0s - loss: 0.0718 - accuracy: 0.9770 - val_loss: 0.5940 - val_accuracy: 0.9128 - 415ms/epoch - 8ms/step\n",
      "Epoch 24/100\n",
      "53/53 - 0s - loss: 0.0662 - accuracy: 0.9782 - val_loss: 0.5741 - val_accuracy: 0.9152 - 355ms/epoch - 7ms/step\n",
      "Epoch 25/100\n",
      "53/53 - 0s - loss: 0.0617 - accuracy: 0.9802 - val_loss: 0.5827 - val_accuracy: 0.9159 - 393ms/epoch - 7ms/step\n",
      "Epoch 26/100\n",
      "53/53 - 0s - loss: 0.0581 - accuracy: 0.9807 - val_loss: 0.5780 - val_accuracy: 0.9180 - 413ms/epoch - 8ms/step\n",
      "Epoch 27/100\n",
      "53/53 - 0s - loss: 0.0562 - accuracy: 0.9819 - val_loss: 0.5811 - val_accuracy: 0.9162 - 442ms/epoch - 8ms/step\n",
      "Epoch 28/100\n",
      "53/53 - 0s - loss: 0.0520 - accuracy: 0.9834 - val_loss: 0.6028 - val_accuracy: 0.9182 - 407ms/epoch - 8ms/step\n",
      "Epoch 29/100\n",
      "53/53 - 0s - loss: 0.0479 - accuracy: 0.9846 - val_loss: 0.5920 - val_accuracy: 0.9176 - 397ms/epoch - 7ms/step\n",
      "Epoch 30/100\n",
      "53/53 - 0s - loss: 0.0442 - accuracy: 0.9856 - val_loss: 0.5995 - val_accuracy: 0.9183 - 378ms/epoch - 7ms/step\n",
      "Epoch 31/100\n",
      "53/53 - 0s - loss: 0.0441 - accuracy: 0.9859 - val_loss: 0.5881 - val_accuracy: 0.9190 - 389ms/epoch - 7ms/step\n",
      "Epoch 32/100\n",
      "53/53 - 0s - loss: 0.0397 - accuracy: 0.9875 - val_loss: 0.5998 - val_accuracy: 0.9217 - 378ms/epoch - 7ms/step\n",
      "Epoch 33/100\n",
      "53/53 - 0s - loss: 0.0391 - accuracy: 0.9870 - val_loss: 0.5957 - val_accuracy: 0.9187 - 361ms/epoch - 7ms/step\n",
      "Epoch 34/100\n",
      "53/53 - 0s - loss: 0.0365 - accuracy: 0.9878 - val_loss: 0.5930 - val_accuracy: 0.9189 - 370ms/epoch - 7ms/step\n",
      "Epoch 35/100\n",
      "53/53 - 0s - loss: 0.0353 - accuracy: 0.9882 - val_loss: 0.5852 - val_accuracy: 0.9213 - 375ms/epoch - 7ms/step\n",
      "Epoch 36/100\n",
      "53/53 - 0s - loss: 0.0322 - accuracy: 0.9890 - val_loss: 0.6128 - val_accuracy: 0.9220 - 381ms/epoch - 7ms/step\n",
      "Epoch 37/100\n",
      "53/53 - 0s - loss: 0.0302 - accuracy: 0.9905 - val_loss: 0.5969 - val_accuracy: 0.9241 - 351ms/epoch - 7ms/step\n",
      "Epoch 38/100\n",
      "53/53 - 0s - loss: 0.0287 - accuracy: 0.9907 - val_loss: 0.5929 - val_accuracy: 0.9207 - 386ms/epoch - 7ms/step\n",
      "Epoch 39/100\n",
      "53/53 - 0s - loss: 0.0316 - accuracy: 0.9892 - val_loss: 0.6196 - val_accuracy: 0.9217 - 378ms/epoch - 7ms/step\n",
      "Epoch 40/100\n",
      "53/53 - 0s - loss: 0.0382 - accuracy: 0.9874 - val_loss: 0.5761 - val_accuracy: 0.9234 - 354ms/epoch - 7ms/step\n",
      "Epoch 41/100\n",
      "53/53 - 0s - loss: 0.0407 - accuracy: 0.9857 - val_loss: 0.6461 - val_accuracy: 0.9250 - 366ms/epoch - 7ms/step\n",
      "Epoch 42/100\n",
      "53/53 - 0s - loss: 0.0358 - accuracy: 0.9879 - val_loss: 0.5934 - val_accuracy: 0.9263 - 360ms/epoch - 7ms/step\n",
      "Epoch 43/100\n",
      "53/53 - 0s - loss: 0.0321 - accuracy: 0.9890 - val_loss: 0.6083 - val_accuracy: 0.9220 - 387ms/epoch - 7ms/step\n",
      "Epoch 44/100\n",
      "53/53 - 0s - loss: 0.0299 - accuracy: 0.9894 - val_loss: 0.5929 - val_accuracy: 0.9250 - 362ms/epoch - 7ms/step\n",
      "Epoch 45/100\n",
      "53/53 - 0s - loss: 0.0297 - accuracy: 0.9900 - val_loss: 0.6180 - val_accuracy: 0.9257 - 360ms/epoch - 7ms/step\n",
      "Epoch 46/100\n",
      "53/53 - 0s - loss: 0.0330 - accuracy: 0.9893 - val_loss: 0.5937 - val_accuracy: 0.9263 - 364ms/epoch - 7ms/step\n",
      "Epoch 47/100\n",
      "53/53 - 0s - loss: 0.0273 - accuracy: 0.9906 - val_loss: 0.6143 - val_accuracy: 0.9243 - 356ms/epoch - 7ms/step\n",
      "Epoch 48/100\n",
      "53/53 - 0s - loss: 0.0305 - accuracy: 0.9896 - val_loss: 0.6298 - val_accuracy: 0.9277 - 367ms/epoch - 7ms/step\n",
      "Epoch 49/100\n",
      "53/53 - 0s - loss: 0.0336 - accuracy: 0.9884 - val_loss: 0.6146 - val_accuracy: 0.9266 - 372ms/epoch - 7ms/step\n",
      "Epoch 50/100\n",
      "53/53 - 0s - loss: 0.0375 - accuracy: 0.9875 - val_loss: 0.6209 - val_accuracy: 0.9272 - 366ms/epoch - 7ms/step\n",
      "Epoch 51/100\n",
      "53/53 - 0s - loss: 0.0447 - accuracy: 0.9856 - val_loss: 0.6368 - val_accuracy: 0.9241 - 363ms/epoch - 7ms/step\n",
      "Epoch 52/100\n",
      "53/53 - 0s - loss: 0.0469 - accuracy: 0.9850 - val_loss: 0.6245 - val_accuracy: 0.9292 - 356ms/epoch - 7ms/step\n",
      "Epoch 53/100\n",
      "53/53 - 0s - loss: 0.0392 - accuracy: 0.9863 - val_loss: 0.6016 - val_accuracy: 0.9330 - 367ms/epoch - 7ms/step\n",
      "Epoch 54/100\n",
      "53/53 - 0s - loss: 0.0330 - accuracy: 0.9886 - val_loss: 0.5923 - val_accuracy: 0.9272 - 364ms/epoch - 7ms/step\n",
      "Epoch 55/100\n",
      "53/53 - 0s - loss: 0.0257 - accuracy: 0.9917 - val_loss: 0.5971 - val_accuracy: 0.9308 - 374ms/epoch - 7ms/step\n",
      "Epoch 56/100\n",
      "53/53 - 0s - loss: 0.0216 - accuracy: 0.9923 - val_loss: 0.6237 - val_accuracy: 0.9296 - 401ms/epoch - 8ms/step\n",
      "Epoch 57/100\n",
      "53/53 - 0s - loss: 0.0250 - accuracy: 0.9917 - val_loss: 0.6286 - val_accuracy: 0.9266 - 372ms/epoch - 7ms/step\n",
      "Epoch 58/100\n",
      "53/53 - 0s - loss: 0.0312 - accuracy: 0.9901 - val_loss: 0.6470 - val_accuracy: 0.9302 - 391ms/epoch - 7ms/step\n",
      "Epoch 59/100\n",
      "53/53 - 0s - loss: 0.0324 - accuracy: 0.9894 - val_loss: 0.6213 - val_accuracy: 0.9338 - 378ms/epoch - 7ms/step\n",
      "Epoch 60/100\n",
      "53/53 - 0s - loss: 0.0292 - accuracy: 0.9906 - val_loss: 0.6582 - val_accuracy: 0.9335 - 370ms/epoch - 7ms/step\n",
      "Epoch 61/100\n",
      "53/53 - 0s - loss: 0.0392 - accuracy: 0.9877 - val_loss: 0.6622 - val_accuracy: 0.9338 - 384ms/epoch - 7ms/step\n",
      "Epoch 62/100\n",
      "53/53 - 0s - loss: 0.0440 - accuracy: 0.9858 - val_loss: 0.6559 - val_accuracy: 0.9341 - 375ms/epoch - 7ms/step\n",
      "Epoch 63/100\n",
      "53/53 - 0s - loss: 0.0426 - accuracy: 0.9875 - val_loss: 0.6352 - val_accuracy: 0.9360 - 370ms/epoch - 7ms/step\n",
      "Epoch 64/100\n",
      "53/53 - 0s - loss: 0.0396 - accuracy: 0.9875 - val_loss: 0.6495 - val_accuracy: 0.9379 - 384ms/epoch - 7ms/step\n",
      "Epoch 65/100\n",
      "53/53 - 0s - loss: 0.0407 - accuracy: 0.9873 - val_loss: 0.6240 - val_accuracy: 0.9368 - 390ms/epoch - 7ms/step\n",
      "Epoch 66/100\n",
      "53/53 - 0s - loss: 0.0329 - accuracy: 0.9898 - val_loss: 0.6416 - val_accuracy: 0.9348 - 390ms/epoch - 7ms/step\n"
     ]
    },
    {
     "name": "stdout",
     "output_type": "stream",
     "text": [
      "Epoch 67/100\n",
      "53/53 - 0s - loss: 0.0388 - accuracy: 0.9875 - val_loss: 0.6177 - val_accuracy: 0.9379 - 405ms/epoch - 8ms/step\n",
      "Epoch 68/100\n",
      "53/53 - 0s - loss: 0.0288 - accuracy: 0.9902 - val_loss: 0.6318 - val_accuracy: 0.9388 - 369ms/epoch - 7ms/step\n",
      "Epoch 69/100\n",
      "53/53 - 0s - loss: 0.0247 - accuracy: 0.9920 - val_loss: 0.6233 - val_accuracy: 0.9411 - 417ms/epoch - 8ms/step\n",
      "Epoch 70/100\n",
      "53/53 - 0s - loss: 0.0254 - accuracy: 0.9920 - val_loss: 0.5929 - val_accuracy: 0.9385 - 467ms/epoch - 9ms/step\n",
      "Epoch 71/100\n",
      "53/53 - 0s - loss: 0.0140 - accuracy: 0.9953 - val_loss: 0.6813 - val_accuracy: 0.9391 - 450ms/epoch - 8ms/step\n",
      "Epoch 72/100\n",
      "53/53 - 0s - loss: 0.0146 - accuracy: 0.9949 - val_loss: 0.6500 - val_accuracy: 0.9400 - 468ms/epoch - 9ms/step\n",
      "Epoch 73/100\n",
      "53/53 - 0s - loss: 0.0152 - accuracy: 0.9949 - val_loss: 0.6339 - val_accuracy: 0.9426 - 482ms/epoch - 9ms/step\n",
      "Epoch 74/100\n",
      "53/53 - 0s - loss: 0.0124 - accuracy: 0.9960 - val_loss: 0.6323 - val_accuracy: 0.9418 - 419ms/epoch - 8ms/step\n",
      "Epoch 75/100\n",
      "53/53 - 0s - loss: 0.0125 - accuracy: 0.9956 - val_loss: 0.6270 - val_accuracy: 0.9399 - 369ms/epoch - 7ms/step\n",
      "Epoch 76/100\n",
      "53/53 - 0s - loss: 0.0123 - accuracy: 0.9955 - val_loss: 0.6210 - val_accuracy: 0.9449 - 375ms/epoch - 7ms/step\n",
      "Epoch 77/100\n",
      "53/53 - 0s - loss: 0.0136 - accuracy: 0.9956 - val_loss: 0.5946 - val_accuracy: 0.9458 - 377ms/epoch - 7ms/step\n",
      "Epoch 78/100\n",
      "53/53 - 0s - loss: 0.0099 - accuracy: 0.9969 - val_loss: 0.6020 - val_accuracy: 0.9439 - 449ms/epoch - 8ms/step\n",
      "Epoch 79/100\n",
      "53/53 - 0s - loss: 0.0061 - accuracy: 0.9980 - val_loss: 0.5937 - val_accuracy: 0.9457 - 378ms/epoch - 7ms/step\n",
      "Epoch 80/100\n",
      "53/53 - 0s - loss: 0.0050 - accuracy: 0.9985 - val_loss: 0.6028 - val_accuracy: 0.9469 - 376ms/epoch - 7ms/step\n",
      "Epoch 81/100\n",
      "53/53 - 0s - loss: 0.0087 - accuracy: 0.9975 - val_loss: 0.7372 - val_accuracy: 0.9378 - 398ms/epoch - 8ms/step\n",
      "Epoch 82/100\n",
      "53/53 - 0s - loss: 0.0274 - accuracy: 0.9919 - val_loss: 0.6638 - val_accuracy: 0.9363 - 405ms/epoch - 8ms/step\n",
      "Epoch 83/100\n",
      "53/53 - 0s - loss: 0.0609 - accuracy: 0.9853 - val_loss: 0.6991 - val_accuracy: 0.9402 - 364ms/epoch - 7ms/step\n",
      "Epoch 84/100\n",
      "53/53 - 0s - loss: 0.0704 - accuracy: 0.9833 - val_loss: 0.7403 - val_accuracy: 0.9329 - 360ms/epoch - 7ms/step\n",
      "Epoch 85/100\n",
      "53/53 - 0s - loss: 0.0582 - accuracy: 0.9852 - val_loss: 0.6728 - val_accuracy: 0.9376 - 367ms/epoch - 7ms/step\n",
      "Epoch 86/100\n",
      "53/53 - 0s - loss: 0.0347 - accuracy: 0.9899 - val_loss: 0.6974 - val_accuracy: 0.9423 - 378ms/epoch - 7ms/step\n",
      "Epoch 87/100\n",
      "53/53 - 0s - loss: 0.0370 - accuracy: 0.9899 - val_loss: 0.6807 - val_accuracy: 0.9405 - 360ms/epoch - 7ms/step\n",
      "Epoch 88/100\n",
      "53/53 - 0s - loss: 0.0385 - accuracy: 0.9881 - val_loss: 0.5987 - val_accuracy: 0.9458 - 363ms/epoch - 7ms/step\n",
      "Epoch 89/100\n",
      "53/53 - 0s - loss: 0.0329 - accuracy: 0.9908 - val_loss: 0.5796 - val_accuracy: 0.9460 - 378ms/epoch - 7ms/step\n",
      "Epoch 90/100\n",
      "53/53 - 0s - loss: 0.0319 - accuracy: 0.9904 - val_loss: 0.6226 - val_accuracy: 0.9384 - 363ms/epoch - 7ms/step\n",
      "Epoch 91/100\n",
      "53/53 - 0s - loss: 0.0274 - accuracy: 0.9917 - val_loss: 0.6511 - val_accuracy: 0.9442 - 360ms/epoch - 7ms/step\n",
      "Epoch 92/100\n",
      "53/53 - 0s - loss: 0.0240 - accuracy: 0.9927 - val_loss: 0.6059 - val_accuracy: 0.9466 - 391ms/epoch - 7ms/step\n",
      "Epoch 93/100\n",
      "53/53 - 0s - loss: 0.0141 - accuracy: 0.9949 - val_loss: 0.6177 - val_accuracy: 0.9432 - 366ms/epoch - 7ms/step\n",
      "Epoch 94/100\n",
      "53/53 - 0s - loss: 0.0108 - accuracy: 0.9964 - val_loss: 0.6455 - val_accuracy: 0.9460 - 375ms/epoch - 7ms/step\n",
      "Epoch 95/100\n",
      "53/53 - 0s - loss: 0.0076 - accuracy: 0.9973 - val_loss: 0.5922 - val_accuracy: 0.9478 - 411ms/epoch - 8ms/step\n",
      "Epoch 96/100\n",
      "53/53 - 0s - loss: 0.0122 - accuracy: 0.9955 - val_loss: 0.6461 - val_accuracy: 0.9466 - 394ms/epoch - 7ms/step\n",
      "Epoch 97/100\n",
      "53/53 - 0s - loss: 0.0183 - accuracy: 0.9942 - val_loss: 0.6620 - val_accuracy: 0.9439 - 354ms/epoch - 7ms/step\n",
      "Epoch 98/100\n",
      "53/53 - 0s - loss: 0.0323 - accuracy: 0.9912 - val_loss: 0.6393 - val_accuracy: 0.9466 - 418ms/epoch - 8ms/step\n",
      "Epoch 99/100\n",
      "53/53 - 0s - loss: 0.0245 - accuracy: 0.9930 - val_loss: 0.6308 - val_accuracy: 0.9451 - 395ms/epoch - 7ms/step\n",
      "Epoch 100/100\n",
      "53/53 - 0s - loss: 0.0197 - accuracy: 0.9945 - val_loss: 0.6597 - val_accuracy: 0.9445 - 377ms/epoch - 7ms/step\n"
     ]
    }
   ],
   "source": [
    "model_1_2.compile(optimizer='adam', loss='categorical_crossentropy', metrics=['accuracy'])\n",
    "history_1_2 = model_1_2.fit(X_train, Y_train, epochs=100, validation_split=0.20, batch_size=512, verbose=2)"
   ]
  },
  {
   "cell_type": "code",
   "execution_count": 36,
   "id": "f93bdef4",
   "metadata": {},
   "outputs": [
    {
     "data": {
      "image/png": "[encoded data removed]",
      "text/plain": [
       "<Figure size 432x288 with 1 Axes>"
      ]
     },
     "metadata": {
      "needs_background": "light"
     },
     "output_type": "display_data"
    },
    {
     "data": {
      "image/png": "[encoded data removed]",
      "text/plain": [
       "<Figure size 432x288 with 1 Axes>"
      ]
     },
     "metadata": {
      "needs_background": "light"
     },
     "output_type": "display_data"
    }
   ],
   "source": [
    "plt.plot(history_1_2.history['loss'], label='train')\n",
    "plt.plot(history_1_2.history['val_loss'], label='val')\n",
    "plt.legend()\n",
    "plt.title('Loss')\n",
    "plt.show()\n",
    "\n",
    "plt.plot(history_1_2.history['accuracy'], label='train')\n",
    "plt.plot(history_1_2.history['val_accuracy'], label='val')\n",
    "plt.title('Accurracy')\n",
    "plt.legend()\n",
    "plt.show()"
   ]
  },
  {
   "cell_type": "markdown",
   "id": "398917d8",
   "metadata": {},
   "source": [
    "Este modelo mejoro bastante en los primeros 20 epochs, y de ahí fue mejorando poco a poco. Vemos a lo lejos que habia un tendencia muy pequeña de seguir creciendo, por lo que existe la posibilidad de que todavía la podiamos ajusta un poco más. Al final obtuvo un 0.93 de accuracy aproximadamente en el test."
   ]
  },
  {
   "cell_type": "code",
   "execution_count": 46,
   "id": "ffda2e23",
   "metadata": {},
   "outputs": [
    {
     "name": "stdout",
     "output_type": "stream",
     "text": [
      "train accuracy: 0.9944568276405334\n",
      "validation accuracy: 0.9444940686225891\n",
      "test accuracy: 0.9470238089561462\n"
     ]
    }
   ],
   "source": [
    "results = np.zeros(3, dtype='float')\n",
    "results[0] = model_1_2.evaluate(X_test, Y_test, verbose=0)[1]\n",
    "print('train accuracy:', history_1_2.history['accuracy'][-1])\n",
    "print('validation accuracy:', history_1_2.history['val_accuracy'][-1])\n",
    "print('test accuracy:', results[0])"
   ]
  },
  {
   "cell_type": "markdown",
   "id": "9dc66574",
   "metadata": {},
   "source": [
    "### 1.3. Deep Learning"
   ]
  },
  {
   "cell_type": "code",
   "execution_count": 37,
   "id": "4e2f4ade",
   "metadata": {},
   "outputs": [],
   "source": [
    "model_1_3 = Sequential()\n",
    "model_1_3.add(Conv2D(32, input_shape=(28, 28, 1), kernel_size=(3, 3), activation='relu'))\n",
    "model_1_3.add(MaxPooling2D(pool_size=(2, 2)))\n",
    "model_1_3.add(Conv2D(64, kernel_size=(3, 3), activation='relu'))\n",
    "model_1_3.add(MaxPooling2D(pool_size=(2, 2)))\n",
    "model_1_3.add(Flatten())\n",
    "model_1_3.add(Dense(128, activation='relu'))\n",
    "model_1_3.add(Dense(10, activation='softmax'))"
   ]
  },
  {
   "cell_type": "code",
   "execution_count": 38,
   "id": "40ecdc64",
   "metadata": {},
   "outputs": [
    {
     "name": "stdout",
     "output_type": "stream",
     "text": [
      "Epoch 1/10\n",
      "53/53 - 8s - loss: 3.8235 - accuracy: 0.7125 - val_loss: 0.2822 - val_accuracy: 0.9107 - 8s/epoch - 151ms/step\n",
      "Epoch 2/10\n",
      "53/53 - 7s - loss: 0.1842 - accuracy: 0.9436 - val_loss: 0.1505 - val_accuracy: 0.9515 - 7s/epoch - 126ms/step\n",
      "Epoch 3/10\n",
      "53/53 - 7s - loss: 0.1012 - accuracy: 0.9684 - val_loss: 0.1175 - val_accuracy: 0.9629 - 7s/epoch - 127ms/step\n",
      "Epoch 4/10\n",
      "53/53 - 7s - loss: 0.0646 - accuracy: 0.9796 - val_loss: 0.1099 - val_accuracy: 0.9635 - 7s/epoch - 128ms/step\n",
      "Epoch 5/10\n",
      "53/53 - 7s - loss: 0.0482 - accuracy: 0.9847 - val_loss: 0.0954 - val_accuracy: 0.9714 - 7s/epoch - 134ms/step\n",
      "Epoch 6/10\n",
      "53/53 - 7s - loss: 0.0317 - accuracy: 0.9905 - val_loss: 0.0940 - val_accuracy: 0.9705 - 7s/epoch - 140ms/step\n",
      "Epoch 7/10\n",
      "53/53 - 8s - loss: 0.0226 - accuracy: 0.9942 - val_loss: 0.0913 - val_accuracy: 0.9723 - 8s/epoch - 145ms/step\n",
      "Epoch 8/10\n",
      "53/53 - 8s - loss: 0.0162 - accuracy: 0.9965 - val_loss: 0.0866 - val_accuracy: 0.9747 - 8s/epoch - 145ms/step\n",
      "Epoch 9/10\n",
      "53/53 - 7s - loss: 0.0126 - accuracy: 0.9975 - val_loss: 0.0871 - val_accuracy: 0.9741 - 7s/epoch - 140ms/step\n",
      "Epoch 10/10\n",
      "53/53 - 8s - loss: 0.0093 - accuracy: 0.9987 - val_loss: 0.0859 - val_accuracy: 0.9760 - 8s/epoch - 152ms/step\n"
     ]
    }
   ],
   "source": [
    "model_1_3.compile(optimizer='adam', loss='categorical_crossentropy', metrics=['accuracy'])\n",
    "history_1_3 = model_1_3.fit(X_train.values.reshape(-1, 28, 28, 1), Y_train, epochs=10, validation_split=0.20, batch_size=512, verbose=2)"
   ]
  },
  {
   "cell_type": "code",
   "execution_count": 39,
   "id": "725ff90c",
   "metadata": {},
   "outputs": [
    {
     "data": {
      "image/png": "[encoded data removed]",
      "text/plain": [
       "<Figure size 432x288 with 1 Axes>"
      ]
     },
     "metadata": {
      "needs_background": "light"
     },
     "output_type": "display_data"
    },
    {
     "data": {
      "image/png": "[encoded data removed]",
      "text/plain": [
       "<Figure size 432x288 with 1 Axes>"
      ]
     },
     "metadata": {
      "needs_background": "light"
     },
     "output_type": "display_data"
    }
   ],
   "source": [
    "plt.plot(history_1_3.history['loss'], label='train')\n",
    "plt.plot(history_1_3.history['val_loss'], label='val')\n",
    "plt.legend()\n",
    "plt.title('Loss')\n",
    "plt.show()\n",
    "\n",
    "plt.plot(history_1_3.history['accuracy'], label='train')\n",
    "plt.plot(history_1_3.history['val_accuracy'], label='val')\n",
    "plt.title('Accurracy')\n",
    "plt.legend()\n",
    "plt.show()"
   ]
  },
  {
   "cell_type": "markdown",
   "id": "baf1a5e4",
   "metadata": {},
   "source": [
    "En este caso vemos que en los primeros dos epochs el modelo alcanza reultados bastante mejores, aunque cada epoch tuvo un tiempo de ejecucion mucho mayor. Vemos que incluso seguia creciendo ligeraemtne cuando lo detuvimos en 10 epochs, por lo que con mucho mas tiempo de entreneamiento puede que este modelo haya mejorado aun más. Aún así se obtuvo un accuracy bastante alto de 0.98 aproximadamente."
   ]
  },
  {
   "cell_type": "code",
   "execution_count": 47,
   "id": "be2101ac",
   "metadata": {},
   "outputs": [
    {
     "name": "stdout",
     "output_type": "stream",
     "text": [
      "train accuracy: 0.9986607432365417\n",
      "validation accuracy: 0.9760416746139526\n",
      "test accuracy: 0.9789285659790039\n"
     ]
    }
   ],
   "source": [
    "results[1] = model_1_3.evaluate(X_test.values.reshape(-1, 28, 28, 1), Y_test, verbose=0)[1]\n",
    "print('train accuracy:', history_1_3.history['accuracy'][-1])\n",
    "print('validation accuracy:', history_1_3.history['val_accuracy'][-1])\n",
    "print('test accuracy:', results[1])"
   ]
  },
  {
   "cell_type": "markdown",
   "id": "851cb914",
   "metadata": {},
   "source": [
    "### 1.4. Gradient Boosting Trees"
   ]
  },
  {
   "cell_type": "code",
   "execution_count": 41,
   "id": "58676359",
   "metadata": {},
   "outputs": [],
   "source": [
    "model_xgb = xgb.XGBClassifier()\n",
    "model_1_4 = MultiOutputClassifier(model_xgb)"
   ]
  },
  {
   "cell_type": "code",
   "execution_count": 43,
   "id": "cddb5643",
   "metadata": {},
   "outputs": [
    {
     "data": {
      "text/html": [
       "<style>#sk-container-id-2 {color: black;}#sk-container-id-2 pre{padding: 0;}#sk-container-id-2 div.sk-toggleable {background-color: white;}#sk-container-id-2 label.sk-toggleable__label {cursor: pointer;display: block;width: 100%;margin-bottom: 0;padding: 0.3em;box-sizing: border-box;text-align: center;}#sk-container-id-2 label.sk-toggleable__label-arrow:before {content: \"▸\";float: left;margin-right: 0.25em;color: #696969;}#sk-container-id-2 label.sk-toggleable__label-arrow:hover:before {color: black;}#sk-container-id-2 div.sk-estimator:hover label.sk-toggleable__label-arrow:before {color: black;}#sk-container-id-2 div.sk-toggleable__content {max-height: 0;max-width: 0;overflow: hidden;text-align: left;background-color: #f0f8ff;}#sk-container-id-2 div.sk-toggleable__content pre {margin: 0.2em;color: black;border-radius: 0.25em;background-color: #f0f8ff;}#sk-container-id-2 input.sk-toggleable__control:checked~div.sk-toggleable__content {max-height: 200px;max-width: 100%;overflow: auto;}#sk-container-id-2 input.sk-toggleable__control:checked~label.sk-toggleable__label-arrow:before {content: \"▾\";}#sk-container-id-2 div.sk-estimator input.sk-toggleable__control:checked~label.sk-toggleable__label {background-color: #d4ebff;}#sk-container-id-2 div.sk-label input.sk-toggleable__control:checked~label.sk-toggleable__label {background-color: #d4ebff;}#sk-container-id-2 input.sk-hidden--visually {border: 0;clip: rect(1px 1px 1px 1px);clip: rect(1px, 1px, 1px, 1px);height: 1px;margin: -1px;overflow: hidden;padding: 0;position: absolute;width: 1px;}#sk-container-id-2 div.sk-estimator {font-family: monospace;background-color: #f0f8ff;border: 1px dotted black;border-radius: 0.25em;box-sizing: border-box;margin-bottom: 0.5em;}#sk-container-id-2 div.sk-estimator:hover {background-color: #d4ebff;}#sk-container-id-2 div.sk-parallel-item::after {content: \"\";width: 100%;border-bottom: 1px solid gray;flex-grow: 1;}#sk-container-id-2 div.sk-label:hover label.sk-toggleable__label {background-color: #d4ebff;}#sk-container-id-2 div.sk-serial::before {content: \"\";position: absolute;border-left: 1px solid gray;box-sizing: border-box;top: 0;bottom: 0;left: 50%;z-index: 0;}#sk-container-id-2 div.sk-serial {display: flex;flex-direction: column;align-items: center;background-color: white;padding-right: 0.2em;padding-left: 0.2em;position: relative;}#sk-container-id-2 div.sk-item {position: relative;z-index: 1;}#sk-container-id-2 div.sk-parallel {display: flex;align-items: stretch;justify-content: center;background-color: white;position: relative;}#sk-container-id-2 div.sk-item::before, #sk-container-id-2 div.sk-parallel-item::before {content: \"\";position: absolute;border-left: 1px solid gray;box-sizing: border-box;top: 0;bottom: 0;left: 50%;z-index: -1;}#sk-container-id-2 div.sk-parallel-item {display: flex;flex-direction: column;z-index: 1;position: relative;background-color: white;}#sk-container-id-2 div.sk-parallel-item:first-child::after {align-self: flex-end;width: 50%;}#sk-container-id-2 div.sk-parallel-item:last-child::after {align-self: flex-start;width: 50%;}#sk-container-id-2 div.sk-parallel-item:only-child::after {width: 0;}#sk-container-id-2 div.sk-dashed-wrapped {border: 1px dashed gray;margin: 0 0.4em 0.5em 0.4em;box-sizing: border-box;padding-bottom: 0.4em;background-color: white;}#sk-container-id-2 div.sk-label label {font-family: monospace;font-weight: bold;display: inline-block;line-height: 1.2em;}#sk-container-id-2 div.sk-label-container {text-align: center;}#sk-container-id-2 div.sk-container {/* jupyter's `normalize.less` sets `[hidden] { display: none; }` but bootstrap.min.css set `[hidden] { display: none !important; }` so we also need the `!important` here to be able to override the default hidden behavior on the sphinx rendered scikit-learn.org. See: https://github.com/scikit-learn/scikit-learn/issues/21755 */display: inline-block !important;position: relative;}#sk-container-id-2 div.sk-text-repr-fallback {display: none;}</style><div id=\"sk-container-id-2\" class=\"sk-top-container\"><div class=\"sk-text-repr-fallback\"><pre>MultiOutputClassifier(estimator=XGBClassifier(base_score=None, booster=None,\n",
       "                                              callbacks=None,\n",
       "                                              colsample_bylevel=None,\n",
       "                                              colsample_bynode=None,\n",
       "                                              colsample_bytree=None,\n",
       "                                              early_stopping_rounds=None,\n",
       "                                              enable_categorical=False,\n",
       "                                              eval_metric=None, gamma=None,\n",
       "                                              gpu_id=None, grow_policy=None,\n",
       "                                              importance_type=None,\n",
       "                                              interaction_constraints=None,\n",
       "                                              learning_rate=None, max_bin=None,\n",
       "                                              max_cat_to_onehot=None,\n",
       "                                              max_delta_step=None,\n",
       "                                              max_depth=None, max_leaves=None,\n",
       "                                              min_child_weight=None,\n",
       "                                              missing=nan,\n",
       "                                              monotone_constraints=None,\n",
       "                                              n_estimators=100, n_jobs=None,\n",
       "                                              num_parallel_tree=None,\n",
       "                                              predictor=None, random_state=None,\n",
       "                                              reg_alpha=None, reg_lambda=None, ...))</pre><b>In a Jupyter environment, please rerun this cell to show the HTML representation or trust the notebook. <br />On GitHub, the HTML representation is unable to render, please try loading this page with nbviewer.org.</b></div><div class=\"sk-container\" hidden><div class=\"sk-item sk-dashed-wrapped\"><div class=\"sk-label-container\"><div class=\"sk-label sk-toggleable\"><input class=\"sk-toggleable__control sk-hidden--visually\" id=\"sk-estimator-id-4\" type=\"checkbox\" ><label for=\"sk-estimator-id-4\" class=\"sk-toggleable__label sk-toggleable__label-arrow\">MultiOutputClassifier</label><div class=\"sk-toggleable__content\"><pre>MultiOutputClassifier(estimator=XGBClassifier(base_score=None, booster=None,\n",
       "                                              callbacks=None,\n",
       "                                              colsample_bylevel=None,\n",
       "                                              colsample_bynode=None,\n",
       "                                              colsample_bytree=None,\n",
       "                                              early_stopping_rounds=None,\n",
       "                                              enable_categorical=False,\n",
       "                                              eval_metric=None, gamma=None,\n",
       "                                              gpu_id=None, grow_policy=None,\n",
       "                                              importance_type=None,\n",
       "                                              interaction_constraints=None,\n",
       "                                              learning_rate=None, max_bin=None,\n",
       "                                              max_cat_to_onehot=None,\n",
       "                                              max_delta_step=None,\n",
       "                                              max_depth=None, max_leaves=None,\n",
       "                                              min_child_weight=None,\n",
       "                                              missing=nan,\n",
       "                                              monotone_constraints=None,\n",
       "                                              n_estimators=100, n_jobs=None,\n",
       "                                              num_parallel_tree=None,\n",
       "                                              predictor=None, random_state=None,\n",
       "                                              reg_alpha=None, reg_lambda=None, ...))</pre></div></div></div><div class=\"sk-parallel\"><div class=\"sk-parallel-item\"><div class=\"sk-item\"><div class=\"sk-label-container\"><div class=\"sk-label sk-toggleable\"><input class=\"sk-toggleable__control sk-hidden--visually\" id=\"sk-estimator-id-5\" type=\"checkbox\" ><label for=\"sk-estimator-id-5\" class=\"sk-toggleable__label sk-toggleable__label-arrow\">estimator: XGBClassifier</label><div class=\"sk-toggleable__content\"><pre>XGBClassifier(base_score=None, booster=None, callbacks=None,\n",
       "              colsample_bylevel=None, colsample_bynode=None,\n",
       "              colsample_bytree=None, early_stopping_rounds=None,\n",
       "              enable_categorical=False, eval_metric=None, gamma=None,\n",
       "              gpu_id=None, grow_policy=None, importance_type=None,\n",
       "              interaction_constraints=None, learning_rate=None, max_bin=None,\n",
       "              max_cat_to_onehot=None, max_delta_step=None, max_depth=None,\n",
       "              max_leaves=None, min_child_weight=None, missing=nan,\n",
       "              monotone_constraints=None, n_estimators=100, n_jobs=None,\n",
       "              num_parallel_tree=None, predictor=None, random_state=None,\n",
       "              reg_alpha=None, reg_lambda=None, ...)</pre></div></div></div><div class=\"sk-serial\"><div class=\"sk-item\"><div class=\"sk-estimator sk-toggleable\"><input class=\"sk-toggleable__control sk-hidden--visually\" id=\"sk-estimator-id-6\" type=\"checkbox\" ><label for=\"sk-estimator-id-6\" class=\"sk-toggleable__label sk-toggleable__label-arrow\">XGBClassifier</label><div class=\"sk-toggleable__content\"><pre>XGBClassifier(base_score=None, booster=None, callbacks=None,\n",
       "              colsample_bylevel=None, colsample_bynode=None,\n",
       "              colsample_bytree=None, early_stopping_rounds=None,\n",
       "              enable_categorical=False, eval_metric=None, gamma=None,\n",
       "              gpu_id=None, grow_policy=None, importance_type=None,\n",
       "              interaction_constraints=None, learning_rate=None, max_bin=None,\n",
       "              max_cat_to_onehot=None, max_delta_step=None, max_depth=None,\n",
       "              max_leaves=None, min_child_weight=None, missing=nan,\n",
       "              monotone_constraints=None, n_estimators=100, n_jobs=None,\n",
       "              num_parallel_tree=None, predictor=None, random_state=None,\n",
       "              reg_alpha=None, reg_lambda=None, ...)</pre></div></div></div></div></div></div></div></div></div></div>"
      ],
      "text/plain": [
       "MultiOutputClassifier(estimator=XGBClassifier(base_score=None, booster=None,\n",
       "                                              callbacks=None,\n",
       "                                              colsample_bylevel=None,\n",
       "                                              colsample_bynode=None,\n",
       "                                              colsample_bytree=None,\n",
       "                                              early_stopping_rounds=None,\n",
       "                                              enable_categorical=False,\n",
       "                                              eval_metric=None, gamma=None,\n",
       "                                              gpu_id=None, grow_policy=None,\n",
       "                                              importance_type=None,\n",
       "                                              interaction_constraints=None,\n",
       "                                              learning_rate=None, max_bin=None,\n",
       "                                              max_cat_to_onehot=None,\n",
       "                                              max_delta_step=None,\n",
       "                                              max_depth=None, max_leaves=None,\n",
       "                                              min_child_weight=None,\n",
       "                                              missing=nan,\n",
       "                                              monotone_constraints=None,\n",
       "                                              n_estimators=100, n_jobs=None,\n",
       "                                              num_parallel_tree=None,\n",
       "                                              predictor=None, random_state=None,\n",
       "                                              reg_alpha=None, reg_lambda=None, ...))"
      ]
     },
     "execution_count": 43,
     "metadata": {},
     "output_type": "execute_result"
    }
   ],
   "source": [
    "model_1_4.fit(X_train, Y_train)"
   ]
  },
  {
   "cell_type": "code",
   "execution_count": 49,
   "id": "a74ff478",
   "metadata": {},
   "outputs": [
    {
     "name": "stdout",
     "output_type": "stream",
     "text": [
      "train accuracy: 1.0\n",
      "test accuracy: 0.9482142857142857\n"
     ]
    }
   ],
   "source": [
    "Y_train_pred = model_1_4.predict(X_train)\n",
    "Y_test_pred = model_1_4.predict(X_test)\n",
    "results[2] = accuracy_score(Y_test, Y_test_pred)\n",
    "print('train accuracy:', accuracy_score(Y_train, Y_train_pred))\n",
    "print('test accuracy:', results[2])"
   ]
  },
  {
   "cell_type": "markdown",
   "id": "17a9d9f6",
   "metadata": {},
   "source": [
    "### 1.5. Test Mejor Modelo"
   ]
  },
  {
   "cell_type": "code",
   "execution_count": null,
   "id": "73c15e94",
   "metadata": {},
   "outputs": [],
   "source": []
  },
  {
   "cell_type": "markdown",
   "id": "e950a629",
   "metadata": {},
   "source": [
    "### 1.6. Comparacion Modelos"
   ]
  },
  {
   "cell_type": "code",
   "execution_count": null,
   "id": "07449973",
   "metadata": {},
   "outputs": [],
   "source": []
  },
  {
   "cell_type": "markdown",
   "id": "f9c2d36a",
   "metadata": {},
   "source": [
    "## Ejercicio 2"
   ]
  },
  {
   "cell_type": "code",
   "execution_count": null,
   "id": "ce66aae9",
   "metadata": {},
   "outputs": [],
   "source": []
  },
  {
   "cell_type": "markdown",
   "id": "01a4e5c5",
   "metadata": {},
   "source": [
    "### 2.2. Modelos LSTM"
   ]
  },
  {
   "cell_type": "code",
   "execution_count": null,
   "id": "50e19542",
   "metadata": {},
   "outputs": [],
   "source": []
  },
  {
   "cell_type": "markdown",
   "id": "8aa50719",
   "metadata": {},
   "source": [
    "### 2.3. Resultados"
   ]
  },
  {
   "cell_type": "code",
   "execution_count": null,
   "id": "978b05e7",
   "metadata": {},
   "outputs": [],
   "source": []
  }
 ],
 "metadata": {
  "kernelspec": {
   "display_name": "Python 3 (ipykernel)",
   "language": "python",
   "name": "python3"
  },
  "language_info": {
   "codemirror_mode": {
    "name": "ipython",
    "version": 3
   },
   "file_extension": ".py",
   "mimetype": "text/x-python",
   "name": "python",
   "nbconvert_exporter": "python",
   "pygments_lexer": "ipython3",
   "version": "3.9.7"
  }
 },
 "nbformat": 4,
 "nbformat_minor": 5
}
