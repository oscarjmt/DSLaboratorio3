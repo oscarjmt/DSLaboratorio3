{
 "cells": [
  {
   "cell_type": "markdown",
   "id": "b95eb391",
   "metadata": {},
   "source": [
    "Diego Castellanos 20082\n",
    "\n",
    "Oscar Méndez 20402\n",
    "\n",
    "# Laboratorio 3: Deep Learning"
   ]
  },
  {
   "cell_type": "code",
   "execution_count": 1,
   "id": "c3c7b311",
   "metadata": {},
   "outputs": [],
   "source": [
    "import pandas as pd\n",
    "import numpy as np\n",
    "\n",
    "import matplotlib.pyplot as plt\n",
    "import seaborn as sns\n",
    "\n",
    "from sklearn.model_selection import train_test_split\n",
    "from tensorflow.keras.models import Sequential\n",
    "from tensorflow.keras.layers import Dense, Conv2D, MaxPooling2D, Flatten, LSTM\n",
    "from sklearn.multioutput import MultiOutputClassifier\n",
    "from sklearn.metrics import accuracy_score, mean_squared_error\n",
    "from sklearn.preprocessing import MinMaxScaler, StandardScaler\n",
    "import xgboost as xgb\n",
    "\n",
    "from skimage.transform import resize\n",
    "from scipy.ndimage import rotate\n",
    "import imageio\n",
    "\n",
    "from statsmodels.tsa.seasonal import seasonal_decompose\n",
    "from statsmodels.tsa.stattools import adfuller"
   ]
  },
  {
   "cell_type": "markdown",
   "id": "660680bc",
   "metadata": {},
   "source": [
    "## Ejercicio 1"
   ]
  },
  {
   "cell_type": "code",
   "execution_count": 2,
   "id": "423aea79",
   "metadata": {},
   "outputs": [],
   "source": [
    "df = pd.read_csv('train.csv')\n",
    "test = pd.read_csv('test.csv')"
   ]
  },
  {
   "cell_type": "markdown",
   "id": "7a69ab26",
   "metadata": {},
   "source": [
    "### 1.1. Análisis Exploratorio"
   ]
  },
  {
   "cell_type": "code",
   "execution_count": 3,
   "id": "bb0c0a27",
   "metadata": {},
   "outputs": [
    {
     "data": {
      "text/html": [
       "<div>\n",
       "<style scoped>\n",
       "    .dataframe tbody tr th:only-of-type {\n",
       "        vertical-align: middle;\n",
       "    }\n",
       "\n",
       "    .dataframe tbody tr th {\n",
       "        vertical-align: top;\n",
       "    }\n",
       "\n",
       "    .dataframe thead th {\n",
       "        text-align: right;\n",
       "    }\n",
       "</style>\n",
       "<table border=\"1\" class=\"dataframe\">\n",
       "  <thead>\n",
       "    <tr style=\"text-align: right;\">\n",
       "      <th></th>\n",
       "      <th>label</th>\n",
       "      <th>pixel0</th>\n",
       "      <th>pixel1</th>\n",
       "      <th>pixel2</th>\n",
       "      <th>pixel3</th>\n",
       "      <th>pixel4</th>\n",
       "      <th>pixel5</th>\n",
       "      <th>pixel6</th>\n",
       "      <th>pixel7</th>\n",
       "      <th>pixel8</th>\n",
       "      <th>...</th>\n",
       "      <th>pixel774</th>\n",
       "      <th>pixel775</th>\n",
       "      <th>pixel776</th>\n",
       "      <th>pixel777</th>\n",
       "      <th>pixel778</th>\n",
       "      <th>pixel779</th>\n",
       "      <th>pixel780</th>\n",
       "      <th>pixel781</th>\n",
       "      <th>pixel782</th>\n",
       "      <th>pixel783</th>\n",
       "    </tr>\n",
       "  </thead>\n",
       "  <tbody>\n",
       "    <tr>\n",
       "      <th>0</th>\n",
       "      <td>1</td>\n",
       "      <td>0</td>\n",
       "      <td>0</td>\n",
       "      <td>0</td>\n",
       "      <td>0</td>\n",
       "      <td>0</td>\n",
       "      <td>0</td>\n",
       "      <td>0</td>\n",
       "      <td>0</td>\n",
       "      <td>0</td>\n",
       "      <td>...</td>\n",
       "      <td>0</td>\n",
       "      <td>0</td>\n",
       "      <td>0</td>\n",
       "      <td>0</td>\n",
       "      <td>0</td>\n",
       "      <td>0</td>\n",
       "      <td>0</td>\n",
       "      <td>0</td>\n",
       "      <td>0</td>\n",
       "      <td>0</td>\n",
       "    </tr>\n",
       "    <tr>\n",
       "      <th>1</th>\n",
       "      <td>0</td>\n",
       "      <td>0</td>\n",
       "      <td>0</td>\n",
       "      <td>0</td>\n",
       "      <td>0</td>\n",
       "      <td>0</td>\n",
       "      <td>0</td>\n",
       "      <td>0</td>\n",
       "      <td>0</td>\n",
       "      <td>0</td>\n",
       "      <td>...</td>\n",
       "      <td>0</td>\n",
       "      <td>0</td>\n",
       "      <td>0</td>\n",
       "      <td>0</td>\n",
       "      <td>0</td>\n",
       "      <td>0</td>\n",
       "      <td>0</td>\n",
       "      <td>0</td>\n",
       "      <td>0</td>\n",
       "      <td>0</td>\n",
       "    </tr>\n",
       "    <tr>\n",
       "      <th>2</th>\n",
       "      <td>1</td>\n",
       "      <td>0</td>\n",
       "      <td>0</td>\n",
       "      <td>0</td>\n",
       "      <td>0</td>\n",
       "      <td>0</td>\n",
       "      <td>0</td>\n",
       "      <td>0</td>\n",
       "      <td>0</td>\n",
       "      <td>0</td>\n",
       "      <td>...</td>\n",
       "      <td>0</td>\n",
       "      <td>0</td>\n",
       "      <td>0</td>\n",
       "      <td>0</td>\n",
       "      <td>0</td>\n",
       "      <td>0</td>\n",
       "      <td>0</td>\n",
       "      <td>0</td>\n",
       "      <td>0</td>\n",
       "      <td>0</td>\n",
       "    </tr>\n",
       "    <tr>\n",
       "      <th>3</th>\n",
       "      <td>4</td>\n",
       "      <td>0</td>\n",
       "      <td>0</td>\n",
       "      <td>0</td>\n",
       "      <td>0</td>\n",
       "      <td>0</td>\n",
       "      <td>0</td>\n",
       "      <td>0</td>\n",
       "      <td>0</td>\n",
       "      <td>0</td>\n",
       "      <td>...</td>\n",
       "      <td>0</td>\n",
       "      <td>0</td>\n",
       "      <td>0</td>\n",
       "      <td>0</td>\n",
       "      <td>0</td>\n",
       "      <td>0</td>\n",
       "      <td>0</td>\n",
       "      <td>0</td>\n",
       "      <td>0</td>\n",
       "      <td>0</td>\n",
       "    </tr>\n",
       "    <tr>\n",
       "      <th>4</th>\n",
       "      <td>0</td>\n",
       "      <td>0</td>\n",
       "      <td>0</td>\n",
       "      <td>0</td>\n",
       "      <td>0</td>\n",
       "      <td>0</td>\n",
       "      <td>0</td>\n",
       "      <td>0</td>\n",
       "      <td>0</td>\n",
       "      <td>0</td>\n",
       "      <td>...</td>\n",
       "      <td>0</td>\n",
       "      <td>0</td>\n",
       "      <td>0</td>\n",
       "      <td>0</td>\n",
       "      <td>0</td>\n",
       "      <td>0</td>\n",
       "      <td>0</td>\n",
       "      <td>0</td>\n",
       "      <td>0</td>\n",
       "      <td>0</td>\n",
       "    </tr>\n",
       "  </tbody>\n",
       "</table>\n",
       "<p>5 rows × 785 columns</p>\n",
       "</div>"
      ],
      "text/plain": [
       "   label  pixel0  pixel1  pixel2  pixel3  pixel4  pixel5  pixel6  pixel7  \\\n",
       "0      1       0       0       0       0       0       0       0       0   \n",
       "1      0       0       0       0       0       0       0       0       0   \n",
       "2      1       0       0       0       0       0       0       0       0   \n",
       "3      4       0       0       0       0       0       0       0       0   \n",
       "4      0       0       0       0       0       0       0       0       0   \n",
       "\n",
       "   pixel8  ...  pixel774  pixel775  pixel776  pixel777  pixel778  pixel779  \\\n",
       "0       0  ...         0         0         0         0         0         0   \n",
       "1       0  ...         0         0         0         0         0         0   \n",
       "2       0  ...         0         0         0         0         0         0   \n",
       "3       0  ...         0         0         0         0         0         0   \n",
       "4       0  ...         0         0         0         0         0         0   \n",
       "\n",
       "   pixel780  pixel781  pixel782  pixel783  \n",
       "0         0         0         0         0  \n",
       "1         0         0         0         0  \n",
       "2         0         0         0         0  \n",
       "3         0         0         0         0  \n",
       "4         0         0         0         0  \n",
       "\n",
       "[5 rows x 785 columns]"
      ]
     },
     "execution_count": 3,
     "metadata": {},
     "output_type": "execute_result"
    }
   ],
   "source": [
    "df.head()"
   ]
  },
  {
   "cell_type": "markdown",
   "id": "71e6e580",
   "metadata": {},
   "source": [
    "Primero revisamos que todos los datos sean enteros y no hayan nulos."
   ]
  },
  {
   "cell_type": "code",
   "execution_count": 4,
   "id": "651131c1",
   "metadata": {},
   "outputs": [
    {
     "name": "stdout",
     "output_type": "stream",
     "text": [
      "Tipos de datos: [dtype('int64')]\n",
      "Cantidad de NAs: 0\n"
     ]
    }
   ],
   "source": [
    "print('Tipos de datos:', df.dtypes.unique())\n",
    "print('Cantidad de NAs:', df.isna().sum().sum())"
   ]
  },
  {
   "cell_type": "markdown",
   "id": "66cbc456",
   "metadata": {},
   "source": [
    "Ahora revisamos aleatoriamente unas muestras para ver si las imagenes corresponden a numeros."
   ]
  },
  {
   "cell_type": "code",
   "execution_count": 5,
   "id": "2f4d2310",
   "metadata": {},
   "outputs": [
    {
     "data": {
      "image/png": "[encoded data removed]",
      "text/plain": [
       "<Figure size 432x288 with 1 Axes>"
      ]
     },
     "metadata": {
      "needs_background": "light"
     },
     "output_type": "display_data"
    },
    {
     "data": {
      "image/png": "[encoded data removed]",
      "text/plain": [
       "<Figure size 432x288 with 1 Axes>"
      ]
     },
     "metadata": {
      "needs_background": "light"
     },
     "output_type": "display_data"
    },
    {
     "data": {
      "image/png": "[encoded data removed]",
      "text/plain": [
       "<Figure size 432x288 with 1 Axes>"
      ]
     },
     "metadata": {
      "needs_background": "light"
     },
     "output_type": "display_data"
    },
    {
     "data": {
      "image/png": "[encoded data removed]",
      "text/plain": [
       "<Figure size 432x288 with 1 Axes>"
      ]
     },
     "metadata": {
      "needs_background": "light"
     },
     "output_type": "display_data"
    },
    {
     "data": {
      "image/png": "[encoded data removed]",
      "text/plain": [
       "<Figure size 432x288 with 1 Axes>"
      ]
     },
     "metadata": {
      "needs_background": "light"
     },
     "output_type": "display_data"
    },
    {
     "data": {
      "image/png": "[encoded data removed]",
      "text/plain": [
       "<Figure size 432x288 with 1 Axes>"
      ]
     },
     "metadata": {
      "needs_background": "light"
     },
     "output_type": "display_data"
    },
    {
     "data": {
      "image/png": "[encoded data removed]",
      "text/plain": [
       "<Figure size 432x288 with 1 Axes>"
      ]
     },
     "metadata": {
      "needs_background": "light"
     },
     "output_type": "display_data"
    },
    {
     "data": {
      "image/png": "[encoded data removed]",
      "text/plain": [
       "<Figure size 432x288 with 1 Axes>"
      ]
     },
     "metadata": {
      "needs_background": "light"
     },
     "output_type": "display_data"
    },
    {
     "data": {
      "image/png": "[encoded data removed]",
      "text/plain": [
       "<Figure size 432x288 with 1 Axes>"
      ]
     },
     "metadata": {
      "needs_background": "light"
     },
     "output_type": "display_data"
    },
    {
     "data": {
      "image/png": "[encoded data removed]",
      "text/plain": [
       "<Figure size 432x288 with 1 Axes>"
      ]
     },
     "metadata": {
      "needs_background": "light"
     },
     "output_type": "display_data"
    },
    {
     "data": {
      "image/png": "[encoded data removed]",
      "text/plain": [
       "<Figure size 432x288 with 1 Axes>"
      ]
     },
     "metadata": {
      "needs_background": "light"
     },
     "output_type": "display_data"
    },
    {
     "data": {
      "image/png": "[encoded data removed]",
      "text/plain": [
       "<Figure size 432x288 with 1 Axes>"
      ]
     },
     "metadata": {
      "needs_background": "light"
     },
     "output_type": "display_data"
    },
    {
     "data": {
      "image/png": "[encoded data removed]",
      "text/plain": [
       "<Figure size 432x288 with 1 Axes>"
      ]
     },
     "metadata": {
      "needs_background": "light"
     },
     "output_type": "display_data"
    },
    {
     "data": {
      "image/png": "[encoded data removed]",
      "text/plain": [
       "<Figure size 432x288 with 1 Axes>"
      ]
     },
     "metadata": {
      "needs_background": "light"
     },
     "output_type": "display_data"
    },
    {
     "data": {
      "image/png": "[encoded data removed]",
      "text/plain": [
       "<Figure size 432x288 with 1 Axes>"
      ]
     },
     "metadata": {
      "needs_background": "light"
     },
     "output_type": "display_data"
    }
   ],
   "source": [
    "X = df.drop('label', axis=1)\n",
    "y = df['label']\n",
    "\n",
    "for i in range(15):\n",
    "    im = np.random.randint(0, len(df)-1)\n",
    "    plt.imshow(X.loc[im, :].values.reshape((28, 28)), cmap='gray')\n",
    "    plt.title(y[im])\n",
    "    plt.show()"
   ]
  },
  {
   "cell_type": "markdown",
   "id": "71bb7fbc",
   "metadata": {},
   "source": [
    "Tambien consideramos necesario revisar cuantas imagenes hay por numero, y ver si todas corresponden a dígitos del 0 al 9."
   ]
  },
  {
   "cell_type": "code",
   "execution_count": 6,
   "id": "f07ae7ee",
   "metadata": {},
   "outputs": [
    {
     "data": {
      "text/plain": [
       "0    4132\n",
       "1    4684\n",
       "2    4177\n",
       "3    4351\n",
       "4    4072\n",
       "5    3795\n",
       "6    4137\n",
       "7    4401\n",
       "8    4063\n",
       "9    4188\n",
       "Name: label, dtype: int64"
      ]
     },
     "execution_count": 6,
     "metadata": {},
     "output_type": "execute_result"
    }
   ],
   "source": [
    "y.value_counts().sort_index()"
   ]
  },
  {
   "cell_type": "markdown",
   "id": "6686e46b",
   "metadata": {},
   "source": [
    "### 1.2. Redes Neuronales Simples"
   ]
  },
  {
   "cell_type": "code",
   "execution_count": 7,
   "id": "d9896cfd",
   "metadata": {},
   "outputs": [],
   "source": [
    "Y = pd.get_dummies(y)\n",
    "X_train, X_test, Y_train, Y_test = train_test_split(X, Y, test_size=0.20)"
   ]
  },
  {
   "cell_type": "code",
   "execution_count": 8,
   "id": "4aee130f",
   "metadata": {},
   "outputs": [],
   "source": [
    "model_1_2 = Sequential()\n",
    "model_1_2.add(Dense(84, input_shape=(784,), activation='relu'))\n",
    "model_1_2.add(Dense(56, activation='relu'))\n",
    "model_1_2.add(Dense(10, activation='softmax'))"
   ]
  },
  {
   "cell_type": "code",
   "execution_count": 9,
   "id": "acb0097e",
   "metadata": {},
   "outputs": [
    {
     "name": "stdout",
     "output_type": "stream",
     "text": [
      "Epoch 1/100\n",
      "53/53 - 4s - loss: 11.4484 - accuracy: 0.6359 - val_loss: 2.6620 - val_accuracy: 0.7969 - 4s/epoch - 69ms/step\n",
      "Epoch 2/100\n",
      "53/53 - 1s - loss: 1.9367 - accuracy: 0.8330 - val_loss: 1.6452 - val_accuracy: 0.8403 - 617ms/epoch - 12ms/step\n",
      "Epoch 3/100\n",
      "53/53 - 1s - loss: 1.1552 - accuracy: 0.8729 - val_loss: 1.2382 - val_accuracy: 0.8652 - 720ms/epoch - 14ms/step\n",
      "Epoch 4/100\n",
      "53/53 - 1s - loss: 0.8062 - accuracy: 0.8946 - val_loss: 1.0201 - val_accuracy: 0.8762 - 703ms/epoch - 13ms/step\n",
      "Epoch 5/100\n",
      "53/53 - 1s - loss: 0.6080 - accuracy: 0.9095 - val_loss: 0.8740 - val_accuracy: 0.8915 - 699ms/epoch - 13ms/step\n",
      "Epoch 6/100\n",
      "53/53 - 1s - loss: 0.4595 - accuracy: 0.9236 - val_loss: 0.7815 - val_accuracy: 0.8896 - 658ms/epoch - 12ms/step\n",
      "Epoch 7/100\n",
      "53/53 - 1s - loss: 0.3716 - accuracy: 0.9319 - val_loss: 0.7233 - val_accuracy: 0.9024 - 744ms/epoch - 14ms/step\n",
      "Epoch 8/100\n",
      "53/53 - 1s - loss: 0.3009 - accuracy: 0.9427 - val_loss: 0.6997 - val_accuracy: 0.9028 - 799ms/epoch - 15ms/step\n",
      "Epoch 9/100\n",
      "53/53 - 1s - loss: 0.2466 - accuracy: 0.9492 - val_loss: 0.6863 - val_accuracy: 0.9018 - 691ms/epoch - 13ms/step\n",
      "Epoch 10/100\n",
      "53/53 - 1s - loss: 0.2039 - accuracy: 0.9557 - val_loss: 0.6639 - val_accuracy: 0.9062 - 556ms/epoch - 10ms/step\n",
      "Epoch 11/100\n",
      "53/53 - 1s - loss: 0.1715 - accuracy: 0.9615 - val_loss: 0.6435 - val_accuracy: 0.9067 - 587ms/epoch - 11ms/step\n",
      "Epoch 12/100\n",
      "53/53 - 1s - loss: 0.1464 - accuracy: 0.9649 - val_loss: 0.6446 - val_accuracy: 0.9112 - 813ms/epoch - 15ms/step\n",
      "Epoch 13/100\n",
      "53/53 - 1s - loss: 0.1152 - accuracy: 0.9709 - val_loss: 0.6183 - val_accuracy: 0.9135 - 540ms/epoch - 10ms/step\n",
      "Epoch 14/100\n",
      "53/53 - 1s - loss: 0.1050 - accuracy: 0.9714 - val_loss: 0.6319 - val_accuracy: 0.9124 - 631ms/epoch - 12ms/step\n",
      "Epoch 15/100\n",
      "53/53 - 1s - loss: 0.0899 - accuracy: 0.9759 - val_loss: 0.6085 - val_accuracy: 0.9144 - 662ms/epoch - 12ms/step\n",
      "Epoch 16/100\n",
      "53/53 - 1s - loss: 0.0741 - accuracy: 0.9791 - val_loss: 0.5991 - val_accuracy: 0.9149 - 863ms/epoch - 16ms/step\n",
      "Epoch 17/100\n",
      "53/53 - 1s - loss: 0.0603 - accuracy: 0.9843 - val_loss: 0.6073 - val_accuracy: 0.9182 - 732ms/epoch - 14ms/step\n",
      "Epoch 18/100\n",
      "53/53 - 1s - loss: 0.0553 - accuracy: 0.9848 - val_loss: 0.6008 - val_accuracy: 0.9177 - 703ms/epoch - 13ms/step\n",
      "Epoch 19/100\n",
      "53/53 - 1s - loss: 0.0492 - accuracy: 0.9860 - val_loss: 0.5882 - val_accuracy: 0.9179 - 703ms/epoch - 13ms/step\n",
      "Epoch 20/100\n",
      "53/53 - 1s - loss: 0.0412 - accuracy: 0.9887 - val_loss: 0.5884 - val_accuracy: 0.9210 - 748ms/epoch - 14ms/step\n",
      "Epoch 21/100\n",
      "53/53 - 1s - loss: 0.0336 - accuracy: 0.9911 - val_loss: 0.5881 - val_accuracy: 0.9210 - 722ms/epoch - 14ms/step\n",
      "Epoch 22/100\n",
      "53/53 - 1s - loss: 0.0309 - accuracy: 0.9916 - val_loss: 0.5940 - val_accuracy: 0.9204 - 679ms/epoch - 13ms/step\n",
      "Epoch 23/100\n",
      "53/53 - 1s - loss: 0.0261 - accuracy: 0.9928 - val_loss: 0.5879 - val_accuracy: 0.9228 - 711ms/epoch - 13ms/step\n",
      "Epoch 24/100\n",
      "53/53 - 1s - loss: 0.0232 - accuracy: 0.9941 - val_loss: 0.5711 - val_accuracy: 0.9216 - 676ms/epoch - 13ms/step\n",
      "Epoch 25/100\n",
      "53/53 - 1s - loss: 0.0197 - accuracy: 0.9947 - val_loss: 0.5948 - val_accuracy: 0.9222 - 621ms/epoch - 12ms/step\n",
      "Epoch 26/100\n",
      "53/53 - 1s - loss: 0.0179 - accuracy: 0.9954 - val_loss: 0.5968 - val_accuracy: 0.9217 - 649ms/epoch - 12ms/step\n",
      "Epoch 27/100\n",
      "53/53 - 1s - loss: 0.0139 - accuracy: 0.9968 - val_loss: 0.5868 - val_accuracy: 0.9210 - 711ms/epoch - 13ms/step\n",
      "Epoch 28/100\n",
      "53/53 - 1s - loss: 0.0121 - accuracy: 0.9976 - val_loss: 0.5921 - val_accuracy: 0.9237 - 680ms/epoch - 13ms/step\n",
      "Epoch 29/100\n",
      "53/53 - 1s - loss: 0.0115 - accuracy: 0.9976 - val_loss: 0.5843 - val_accuracy: 0.9234 - 675ms/epoch - 13ms/step\n",
      "Epoch 30/100\n",
      "53/53 - 1s - loss: 0.0096 - accuracy: 0.9983 - val_loss: 0.5973 - val_accuracy: 0.9225 - 602ms/epoch - 11ms/step\n",
      "Epoch 31/100\n",
      "53/53 - 1s - loss: 0.0082 - accuracy: 0.9988 - val_loss: 0.5965 - val_accuracy: 0.9262 - 679ms/epoch - 13ms/step\n",
      "Epoch 32/100\n",
      "53/53 - 1s - loss: 0.0068 - accuracy: 0.9991 - val_loss: 0.5993 - val_accuracy: 0.9269 - 696ms/epoch - 13ms/step\n",
      "Epoch 33/100\n",
      "53/53 - 1s - loss: 0.0063 - accuracy: 0.9990 - val_loss: 0.5947 - val_accuracy: 0.9262 - 654ms/epoch - 12ms/step\n",
      "Epoch 34/100\n",
      "53/53 - 1s - loss: 0.0059 - accuracy: 0.9995 - val_loss: 0.5934 - val_accuracy: 0.9254 - 691ms/epoch - 13ms/step\n",
      "Epoch 35/100\n",
      "53/53 - 1s - loss: 0.0049 - accuracy: 0.9996 - val_loss: 0.6021 - val_accuracy: 0.9271 - 743ms/epoch - 14ms/step\n",
      "Epoch 36/100\n",
      "53/53 - 1s - loss: 0.0043 - accuracy: 0.9996 - val_loss: 0.5936 - val_accuracy: 0.9265 - 737ms/epoch - 14ms/step\n",
      "Epoch 37/100\n",
      "53/53 - 1s - loss: 0.0047 - accuracy: 0.9994 - val_loss: 0.6073 - val_accuracy: 0.9275 - 726ms/epoch - 14ms/step\n",
      "Epoch 38/100\n",
      "53/53 - 1s - loss: 0.0043 - accuracy: 0.9996 - val_loss: 0.6087 - val_accuracy: 0.9272 - 678ms/epoch - 13ms/step\n",
      "Epoch 39/100\n",
      "53/53 - 1s - loss: 0.0034 - accuracy: 0.9997 - val_loss: 0.6066 - val_accuracy: 0.9298 - 617ms/epoch - 12ms/step\n",
      "Epoch 40/100\n",
      "53/53 - 1s - loss: 0.0030 - accuracy: 0.9998 - val_loss: 0.6008 - val_accuracy: 0.9287 - 600ms/epoch - 11ms/step\n",
      "Epoch 41/100\n",
      "53/53 - 0s - loss: 0.0026 - accuracy: 0.9999 - val_loss: 0.6055 - val_accuracy: 0.9290 - 486ms/epoch - 9ms/step\n",
      "Epoch 42/100\n",
      "53/53 - 1s - loss: 0.0025 - accuracy: 0.9998 - val_loss: 0.6076 - val_accuracy: 0.9287 - 638ms/epoch - 12ms/step\n",
      "Epoch 43/100\n",
      "53/53 - 1s - loss: 0.0023 - accuracy: 0.9999 - val_loss: 0.6058 - val_accuracy: 0.9289 - 722ms/epoch - 14ms/step\n",
      "Epoch 44/100\n",
      "53/53 - 1s - loss: 0.0020 - accuracy: 0.9999 - val_loss: 0.6070 - val_accuracy: 0.9280 - 735ms/epoch - 14ms/step\n",
      "Epoch 45/100\n",
      "53/53 - 1s - loss: 0.0020 - accuracy: 0.9999 - val_loss: 0.6091 - val_accuracy: 0.9302 - 735ms/epoch - 14ms/step\n",
      "Epoch 46/100\n",
      "53/53 - 1s - loss: 0.0020 - accuracy: 0.9999 - val_loss: 0.6035 - val_accuracy: 0.9296 - 704ms/epoch - 13ms/step\n",
      "Epoch 47/100\n",
      "53/53 - 1s - loss: 0.0016 - accuracy: 1.0000 - val_loss: 0.6145 - val_accuracy: 0.9304 - 739ms/epoch - 14ms/step\n",
      "Epoch 48/100\n",
      "53/53 - 1s - loss: 0.0015 - accuracy: 1.0000 - val_loss: 0.6111 - val_accuracy: 0.9301 - 725ms/epoch - 14ms/step\n",
      "Epoch 49/100\n",
      "53/53 - 1s - loss: 0.0014 - accuracy: 1.0000 - val_loss: 0.6092 - val_accuracy: 0.9301 - 715ms/epoch - 13ms/step\n",
      "Epoch 50/100\n",
      "53/53 - 1s - loss: 0.0013 - accuracy: 1.0000 - val_loss: 0.6160 - val_accuracy: 0.9304 - 721ms/epoch - 14ms/step\n",
      "Epoch 51/100\n",
      "53/53 - 1s - loss: 0.0012 - accuracy: 1.0000 - val_loss: 0.6127 - val_accuracy: 0.9310 - 702ms/epoch - 13ms/step\n",
      "Epoch 52/100\n",
      "53/53 - 1s - loss: 0.0012 - accuracy: 1.0000 - val_loss: 0.6139 - val_accuracy: 0.9314 - 773ms/epoch - 15ms/step\n",
      "Epoch 53/100\n",
      "53/53 - 1s - loss: 0.0011 - accuracy: 1.0000 - val_loss: 0.6162 - val_accuracy: 0.9305 - 696ms/epoch - 13ms/step\n",
      "Epoch 54/100\n",
      "53/53 - 1s - loss: 0.0010 - accuracy: 1.0000 - val_loss: 0.6179 - val_accuracy: 0.9311 - 661ms/epoch - 12ms/step\n",
      "Epoch 55/100\n",
      "53/53 - 1s - loss: 9.9101e-04 - accuracy: 1.0000 - val_loss: 0.6176 - val_accuracy: 0.9304 - 656ms/epoch - 12ms/step\n",
      "Epoch 56/100\n",
      "53/53 - 1s - loss: 9.4341e-04 - accuracy: 1.0000 - val_loss: 0.6181 - val_accuracy: 0.9317 - 680ms/epoch - 13ms/step\n",
      "Epoch 57/100\n",
      "53/53 - 1s - loss: 8.9816e-04 - accuracy: 1.0000 - val_loss: 0.6217 - val_accuracy: 0.9317 - 675ms/epoch - 13ms/step\n",
      "Epoch 58/100\n",
      "53/53 - 1s - loss: 8.4989e-04 - accuracy: 1.0000 - val_loss: 0.6207 - val_accuracy: 0.9311 - 694ms/epoch - 13ms/step\n",
      "Epoch 59/100\n",
      "53/53 - 1s - loss: 8.1210e-04 - accuracy: 1.0000 - val_loss: 0.6219 - val_accuracy: 0.9314 - 697ms/epoch - 13ms/step\n",
      "Epoch 60/100\n",
      "53/53 - 1s - loss: 7.8246e-04 - accuracy: 1.0000 - val_loss: 0.6248 - val_accuracy: 0.9318 - 662ms/epoch - 12ms/step\n",
      "Epoch 61/100\n",
      "53/53 - 1s - loss: 7.6072e-04 - accuracy: 1.0000 - val_loss: 0.6241 - val_accuracy: 0.9317 - 614ms/epoch - 12ms/step\n",
      "Epoch 62/100\n",
      "53/53 - 1s - loss: 7.1279e-04 - accuracy: 1.0000 - val_loss: 0.6244 - val_accuracy: 0.9320 - 623ms/epoch - 12ms/step\n",
      "Epoch 63/100\n",
      "53/53 - 1s - loss: 6.8431e-04 - accuracy: 1.0000 - val_loss: 0.6270 - val_accuracy: 0.9321 - 579ms/epoch - 11ms/step\n",
      "Epoch 64/100\n",
      "53/53 - 1s - loss: 6.7225e-04 - accuracy: 1.0000 - val_loss: 0.6270 - val_accuracy: 0.9314 - 667ms/epoch - 13ms/step\n",
      "Epoch 65/100\n",
      "53/53 - 1s - loss: 6.4553e-04 - accuracy: 1.0000 - val_loss: 0.6273 - val_accuracy: 0.9323 - 707ms/epoch - 13ms/step\n"
     ]
    },
    {
     "name": "stdout",
     "output_type": "stream",
     "text": [
      "Epoch 66/100\n",
      "53/53 - 1s - loss: 6.0748e-04 - accuracy: 1.0000 - val_loss: 0.6292 - val_accuracy: 0.9317 - 715ms/epoch - 13ms/step\n",
      "Epoch 67/100\n",
      "53/53 - 1s - loss: 5.8972e-04 - accuracy: 1.0000 - val_loss: 0.6304 - val_accuracy: 0.9315 - 716ms/epoch - 14ms/step\n",
      "Epoch 68/100\n",
      "53/53 - 1s - loss: 5.5622e-04 - accuracy: 1.0000 - val_loss: 0.6339 - val_accuracy: 0.9323 - 757ms/epoch - 14ms/step\n",
      "Epoch 69/100\n",
      "53/53 - 1s - loss: 5.4598e-04 - accuracy: 1.0000 - val_loss: 0.6306 - val_accuracy: 0.9321 - 756ms/epoch - 14ms/step\n",
      "Epoch 70/100\n",
      "53/53 - 1s - loss: 5.1712e-04 - accuracy: 1.0000 - val_loss: 0.6315 - val_accuracy: 0.9324 - 721ms/epoch - 14ms/step\n",
      "Epoch 71/100\n",
      "53/53 - 1s - loss: 4.9915e-04 - accuracy: 1.0000 - val_loss: 0.6326 - val_accuracy: 0.9330 - 734ms/epoch - 14ms/step\n",
      "Epoch 72/100\n",
      "53/53 - 1s - loss: 4.8157e-04 - accuracy: 1.0000 - val_loss: 0.6358 - val_accuracy: 0.9332 - 718ms/epoch - 14ms/step\n",
      "Epoch 73/100\n",
      "53/53 - 1s - loss: 4.6853e-04 - accuracy: 1.0000 - val_loss: 0.6318 - val_accuracy: 0.9327 - 671ms/epoch - 13ms/step\n",
      "Epoch 74/100\n",
      "53/53 - 1s - loss: 4.4544e-04 - accuracy: 1.0000 - val_loss: 0.6348 - val_accuracy: 0.9327 - 745ms/epoch - 14ms/step\n",
      "Epoch 75/100\n",
      "53/53 - 1s - loss: 4.2999e-04 - accuracy: 1.0000 - val_loss: 0.6364 - val_accuracy: 0.9338 - 709ms/epoch - 13ms/step\n",
      "Epoch 76/100\n",
      "53/53 - 1s - loss: 4.0857e-04 - accuracy: 1.0000 - val_loss: 0.6377 - val_accuracy: 0.9332 - 730ms/epoch - 14ms/step\n",
      "Epoch 77/100\n",
      "53/53 - 1s - loss: 4.0342e-04 - accuracy: 1.0000 - val_loss: 0.6408 - val_accuracy: 0.9344 - 731ms/epoch - 14ms/step\n",
      "Epoch 78/100\n",
      "53/53 - 1s - loss: 3.8586e-04 - accuracy: 1.0000 - val_loss: 0.6382 - val_accuracy: 0.9341 - 693ms/epoch - 13ms/step\n",
      "Epoch 79/100\n",
      "53/53 - 1s - loss: 3.6827e-04 - accuracy: 1.0000 - val_loss: 0.6385 - val_accuracy: 0.9333 - 724ms/epoch - 14ms/step\n",
      "Epoch 80/100\n",
      "53/53 - 1s - loss: 3.5406e-04 - accuracy: 1.0000 - val_loss: 0.6399 - val_accuracy: 0.9330 - 720ms/epoch - 14ms/step\n",
      "Epoch 81/100\n",
      "53/53 - 1s - loss: 3.4461e-04 - accuracy: 1.0000 - val_loss: 0.6388 - val_accuracy: 0.9332 - 764ms/epoch - 14ms/step\n",
      "Epoch 82/100\n",
      "53/53 - 1s - loss: 3.3406e-04 - accuracy: 1.0000 - val_loss: 0.6440 - val_accuracy: 0.9335 - 687ms/epoch - 13ms/step\n",
      "Epoch 83/100\n",
      "53/53 - 1s - loss: 3.2026e-04 - accuracy: 1.0000 - val_loss: 0.6412 - val_accuracy: 0.9341 - 712ms/epoch - 13ms/step\n",
      "Epoch 84/100\n",
      "53/53 - 1s - loss: 3.1285e-04 - accuracy: 1.0000 - val_loss: 0.6433 - val_accuracy: 0.9336 - 800ms/epoch - 15ms/step\n",
      "Epoch 85/100\n",
      "53/53 - 1s - loss: 2.9671e-04 - accuracy: 1.0000 - val_loss: 0.6443 - val_accuracy: 0.9338 - 559ms/epoch - 11ms/step\n",
      "Epoch 86/100\n",
      "53/53 - 1s - loss: 2.8926e-04 - accuracy: 1.0000 - val_loss: 0.6436 - val_accuracy: 0.9345 - 724ms/epoch - 14ms/step\n",
      "Epoch 87/100\n",
      "53/53 - 1s - loss: 2.8182e-04 - accuracy: 1.0000 - val_loss: 0.6490 - val_accuracy: 0.9345 - 540ms/epoch - 10ms/step\n",
      "Epoch 88/100\n",
      "53/53 - 1s - loss: 2.6818e-04 - accuracy: 1.0000 - val_loss: 0.6475 - val_accuracy: 0.9339 - 661ms/epoch - 12ms/step\n",
      "Epoch 89/100\n",
      "53/53 - 1s - loss: 2.6145e-04 - accuracy: 1.0000 - val_loss: 0.6497 - val_accuracy: 0.9341 - 576ms/epoch - 11ms/step\n",
      "Epoch 90/100\n",
      "53/53 - 1s - loss: 2.4972e-04 - accuracy: 1.0000 - val_loss: 0.6476 - val_accuracy: 0.9348 - 703ms/epoch - 13ms/step\n",
      "Epoch 91/100\n",
      "53/53 - 1s - loss: 2.4062e-04 - accuracy: 1.0000 - val_loss: 0.6499 - val_accuracy: 0.9347 - 685ms/epoch - 13ms/step\n",
      "Epoch 92/100\n",
      "53/53 - 1s - loss: 2.3419e-04 - accuracy: 1.0000 - val_loss: 0.6505 - val_accuracy: 0.9347 - 643ms/epoch - 12ms/step\n",
      "Epoch 93/100\n",
      "53/53 - 1s - loss: 2.2887e-04 - accuracy: 1.0000 - val_loss: 0.6520 - val_accuracy: 0.9348 - 692ms/epoch - 13ms/step\n",
      "Epoch 94/100\n",
      "53/53 - 1s - loss: 2.1899e-04 - accuracy: 1.0000 - val_loss: 0.6534 - val_accuracy: 0.9345 - 753ms/epoch - 14ms/step\n",
      "Epoch 95/100\n",
      "53/53 - 1s - loss: 2.1018e-04 - accuracy: 1.0000 - val_loss: 0.6552 - val_accuracy: 0.9357 - 747ms/epoch - 14ms/step\n",
      "Epoch 96/100\n",
      "53/53 - 1s - loss: 2.0527e-04 - accuracy: 1.0000 - val_loss: 0.6553 - val_accuracy: 0.9350 - 752ms/epoch - 14ms/step\n",
      "Epoch 97/100\n",
      "53/53 - 1s - loss: 2.0045e-04 - accuracy: 1.0000 - val_loss: 0.6551 - val_accuracy: 0.9351 - 718ms/epoch - 14ms/step\n",
      "Epoch 98/100\n",
      "53/53 - 1s - loss: 1.9197e-04 - accuracy: 1.0000 - val_loss: 0.6551 - val_accuracy: 0.9354 - 742ms/epoch - 14ms/step\n",
      "Epoch 99/100\n",
      "53/53 - 1s - loss: 1.8728e-04 - accuracy: 1.0000 - val_loss: 0.6576 - val_accuracy: 0.9347 - 687ms/epoch - 13ms/step\n",
      "Epoch 100/100\n",
      "53/53 - 1s - loss: 1.7949e-04 - accuracy: 1.0000 - val_loss: 0.6589 - val_accuracy: 0.9351 - 713ms/epoch - 13ms/step\n"
     ]
    }
   ],
   "source": [
    "model_1_2.compile(optimizer='adam', loss='categorical_crossentropy', metrics=['accuracy'])\n",
    "history_1_2 = model_1_2.fit(X_train, Y_train, epochs=100, validation_split=0.20, batch_size=512, verbose=2)"
   ]
  },
  {
   "cell_type": "code",
   "execution_count": 10,
   "id": "f93bdef4",
   "metadata": {},
   "outputs": [
    {
     "data": {
      "image/png": "[encoded data removed]",
      "text/plain": [
       "<Figure size 432x288 with 1 Axes>"
      ]
     },
     "metadata": {
      "needs_background": "light"
     },
     "output_type": "display_data"
    },
    {
     "data": {
      "image/png": "[encoded data removed]",
      "text/plain": [
       "<Figure size 432x288 with 1 Axes>"
      ]
     },
     "metadata": {
      "needs_background": "light"
     },
     "output_type": "display_data"
    }
   ],
   "source": [
    "plt.plot(history_1_2.history['loss'], label='train')\n",
    "plt.plot(history_1_2.history['val_loss'], label='val')\n",
    "plt.legend()\n",
    "plt.title('Loss')\n",
    "plt.show()\n",
    "\n",
    "plt.plot(history_1_2.history['accuracy'], label='train')\n",
    "plt.plot(history_1_2.history['val_accuracy'], label='val')\n",
    "plt.title('Accurracy')\n",
    "plt.legend()\n",
    "plt.show()"
   ]
  },
  {
   "cell_type": "markdown",
   "id": "398917d8",
   "metadata": {},
   "source": [
    "Este modelo mejoro bastante en los primeros 20 epochs, y de ahí fue mejorando poco a poco. Vemos a lo lejos que habia un tendencia muy pequeña de seguir creciendo, por lo que existe la posibilidad de que todavía la podiamos ajusta un poco más. Al final obtuvo un 0.93 de accuracy aproximadamente en el test."
   ]
  },
  {
   "cell_type": "code",
   "execution_count": 11,
   "id": "ffda2e23",
   "metadata": {},
   "outputs": [
    {
     "name": "stdout",
     "output_type": "stream",
     "text": [
      "train accuracy: 1.0\n",
      "validation accuracy: 0.9351190328598022\n",
      "test accuracy: 0.9373809695243835\n"
     ]
    }
   ],
   "source": [
    "results = np.zeros(3, dtype='float')\n",
    "results[0] = model_1_2.evaluate(X_test, Y_test, verbose=0)[1]\n",
    "print('train accuracy:', history_1_2.history['accuracy'][-1])\n",
    "print('validation accuracy:', history_1_2.history['val_accuracy'][-1])\n",
    "print('test accuracy:', results[0])"
   ]
  },
  {
   "cell_type": "markdown",
   "id": "9dc66574",
   "metadata": {},
   "source": [
    "### 1.3. Deep Learning"
   ]
  },
  {
   "cell_type": "code",
   "execution_count": 12,
   "id": "4e2f4ade",
   "metadata": {},
   "outputs": [],
   "source": [
    "model_1_3 = Sequential()\n",
    "model_1_3.add(Conv2D(32, input_shape=(28, 28, 1), kernel_size=(3, 3), activation='relu'))\n",
    "model_1_3.add(MaxPooling2D(pool_size=(2, 2)))\n",
    "model_1_3.add(Conv2D(64, kernel_size=(3, 3), activation='relu'))\n",
    "model_1_3.add(MaxPooling2D(pool_size=(2, 2)))\n",
    "model_1_3.add(Flatten())\n",
    "model_1_3.add(Dense(128, activation='relu'))\n",
    "model_1_3.add(Dense(10, activation='softmax'))"
   ]
  },
  {
   "cell_type": "code",
   "execution_count": null,
   "id": "40ecdc64",
   "metadata": {},
   "outputs": [
    {
     "name": "stdout",
     "output_type": "stream",
     "text": [
      "Epoch 1/10\n"
     ]
    }
   ],
   "source": [
    "model_1_3.compile(optimizer='adam', loss='categorical_crossentropy', metrics=['accuracy'])\n",
    "history_1_3 = model_1_3.fit(X_train.values.reshape(-1, 28, 28, 1), Y_train, epochs=10, validation_split=0.20, batch_size=512, verbose=2)"
   ]
  },
  {
   "cell_type": "code",
   "execution_count": null,
   "id": "725ff90c",
   "metadata": {},
   "outputs": [],
   "source": [
    "plt.plot(history_1_3.history['loss'], label='train')\n",
    "plt.plot(history_1_3.history['val_loss'], label='val')\n",
    "plt.legend()\n",
    "plt.title('Loss')\n",
    "plt.show()\n",
    "\n",
    "plt.plot(history_1_3.history['accuracy'], label='train')\n",
    "plt.plot(history_1_3.history['val_accuracy'], label='val')\n",
    "plt.title('Accurracy')\n",
    "plt.legend()\n",
    "plt.show()"
   ]
  },
  {
   "cell_type": "markdown",
   "id": "baf1a5e4",
   "metadata": {},
   "source": [
    "En este caso vemos que en los primeros dos epochs el modelo alcanza reultados bastante mejores, aunque cada epoch tuvo un tiempo de ejecucion mucho mayor. Vemos que incluso seguia creciendo ligeraemtne cuando lo detuvimos en 10 epochs, por lo que con mucho mas tiempo de entreneamiento puede que este modelo haya mejorado aun más. Aún así se obtuvo un accuracy bastante alto de 0.98 aproximadamente."
   ]
  },
  {
   "cell_type": "code",
   "execution_count": null,
   "id": "be2101ac",
   "metadata": {},
   "outputs": [],
   "source": [
    "results[1] = model_1_3.evaluate(X_test.values.reshape(-1, 28, 28, 1), Y_test, verbose=0)[1]\n",
    "print('train accuracy:', history_1_3.history['accuracy'][-1])\n",
    "print('validation accuracy:', history_1_3.history['val_accuracy'][-1])\n",
    "print('test accuracy:', results[1])"
   ]
  },
  {
   "cell_type": "markdown",
   "id": "851cb914",
   "metadata": {},
   "source": [
    "### 1.4. Gradient Boosting Trees"
   ]
  },
  {
   "cell_type": "code",
   "execution_count": null,
   "id": "58676359",
   "metadata": {},
   "outputs": [],
   "source": [
    "model_xgb = xgb.XGBClassifier(n_estimators=50)\n",
    "model_1_4 = MultiOutputClassifier(model_xgb)"
   ]
  },
  {
   "cell_type": "code",
   "execution_count": null,
   "id": "cddb5643",
   "metadata": {},
   "outputs": [],
   "source": [
    "model_1_4.fit(X_train, Y_train)"
   ]
  },
  {
   "cell_type": "code",
   "execution_count": null,
   "id": "a74ff478",
   "metadata": {},
   "outputs": [],
   "source": [
    "Y_train_pred = model_1_4.predict(X_train)\n",
    "Y_test_pred = model_1_4.predict(X_test)\n",
    "results[2] = accuracy_score(Y_test, Y_test_pred)\n",
    "print('train accuracy:', accuracy_score(Y_train, Y_train_pred))\n",
    "print('test accuracy:', results[2])"
   ]
  },
  {
   "cell_type": "markdown",
   "id": "17a9d9f6",
   "metadata": {},
   "source": [
    "### 1.5. Test Mejor Modelo"
   ]
  },
  {
   "cell_type": "code",
   "execution_count": null,
   "id": "73c15e94",
   "metadata": {},
   "outputs": [],
   "source": [
    "def process_image(image, name, plot_image=True):\n",
    "    if plot_image:\n",
    "        plt.figure(figsize=(8, 4))\n",
    "        plt.subplot(1, 2, 1)\n",
    "        plt.imshow(image)\n",
    "        plt.title(\"Original Image\")\n",
    "        plt.axis('off')\n",
    "        \n",
    "    # La cambiamos a escala de grises\n",
    "    image = image.mean(axis=2)\n",
    "    \n",
    "    # Utilizamos un threshold para que el fondo sea 100% blanco\n",
    "    image[image >= 100] = 255\n",
    "    \n",
    "    # Invertimos los colores de la imagen.\n",
    "    image = (-1) * (image - 255)\n",
    "    \n",
    "    # Cambiamos la imagen a ser 28x28 pixeles\n",
    "    image = resize(image, (28, 28), mode='reflect')\n",
    "    \n",
    "    if plot_image:\n",
    "        plt.subplot(1, 2, 2)\n",
    "        plt.imshow(image, cmap='gray')\n",
    "        plt.title(\"Processed Image\")\n",
    "        plt.axis('off')\n",
    "        plt.tight_layout()\n",
    "        plt.suptitle(name)\n",
    "        plt.show()\n",
    "    \n",
    "    # Retornamos un array de 1 dimension \n",
    "    return image.flatten()"
   ]
  },
  {
   "cell_type": "code",
   "execution_count": null,
   "id": "f3b2a0df",
   "metadata": {
    "scrolled": false
   },
   "outputs": [],
   "source": [
    "diego_digits = []\n",
    "oscar_digits = []\n",
    "\n",
    "for i in range(10):\n",
    "    image = plt.imread('images/dc_' + str(i) + '.jpg')\n",
    "    diego_digits.append((process_image(image, 'Diego Castellanos'), i))\n",
    "    image = plt.imread('images/om_' + str(i) + '.jpg')\n",
    "    oscar_digits.append((process_image(image, 'Oscar Méndez'), i))"
   ]
  },
  {
   "cell_type": "code",
   "execution_count": null,
   "id": "83c4905f",
   "metadata": {
    "scrolled": true
   },
   "outputs": [],
   "source": [
    "combined_list = diego_digits + oscar_digits\n",
    "\n",
    "data_dict = {\n",
    "    'label': [item[1] for item in combined_list],\n",
    "    **{f'px{i}': [item[0][i] for item in combined_list] for i in range(784)}\n",
    "}\n",
    "\n",
    "df_real = pd.DataFrame(data_dict)\n",
    "\n",
    "df_real.head()"
   ]
  },
  {
   "cell_type": "code",
   "execution_count": null,
   "id": "ba087769",
   "metadata": {},
   "outputs": [],
   "source": [
    "X_real_test = df_real.drop('label', axis=1)\n",
    "Y_real_test = pd.get_dummies(df_real['label'])\n",
    "\n",
    "Y_real_pred = model_1_3.predict(X_real_test.values.reshape(-1, 28, 28, 1), verbose=0)\n",
    "Y_real_pred = (Y_real_pred >= 0.5).astype(int)\n",
    "\n",
    "print('train accuracy:', history_1_3.history['accuracy'][-1])\n",
    "print('validation accuracy:', history_1_3.history['val_accuracy'][-1])\n",
    "print('test accuracy:', results[1])\n",
    "print('real test accuracy', accuracy_score(Y_real_test, Y_real_pred))"
   ]
  },
  {
   "cell_type": "markdown",
   "id": "7e2c3f02",
   "metadata": {},
   "source": [
    "Vemos que en la vida real el accuracy fue pero, aunque son muy pocos vaores como para generalizar. En la siguiente celda vemos que dígitos clasifico mal el modelo. Podemos ver que fue probablemente por ponerle palito al 7, especificamente fue el de Diego que donde la raya horizontal es bastante pronunciada."
   ]
  },
  {
   "cell_type": "code",
   "execution_count": null,
   "id": "e3996873",
   "metadata": {},
   "outputs": [],
   "source": [
    "print('\\nClasificadas incorrectamente:')\n",
    "inc_labels = np.where(~np.all(Y_real_pred == Y_real_test, axis=1))[0]\n",
    "for i in inc_labels:\n",
    "    plt.imshow(X_real_test.loc[i, :].values.reshape((28, 28)), cmap='gray')\n",
    "    plt.title(df_real.iloc[i, 0])\n",
    "    plt.show()"
   ]
  },
  {
   "cell_type": "markdown",
   "id": "e950a629",
   "metadata": {},
   "source": [
    "### 1.6. Comparacion Modelos"
   ]
  },
  {
   "cell_type": "code",
   "execution_count": null,
   "id": "07449973",
   "metadata": {},
   "outputs": [],
   "source": [
    "df_results = pd.DataFrame({'modelos': ['Red Neuronal Simple', 'Deep Learning', 'Gradient Boosting Trees'],\n",
    "                        'resultado': results\n",
    "                       })\n",
    "df_results"
   ]
  },
  {
   "cell_type": "markdown",
   "id": "c12ac556",
   "metadata": {},
   "source": [
    "Como ya habiamos visto anteriormente la red neuronal de deep learning, obtuvo los mejores resultados en el test. Esto debido a que al usar una red convolucional vemos el contexto de cada pixel y no los vemos individualmente. El gradient boosted tree obtuvo un resultado parecido a la red neuronal simple, ya que estos tambien son bastante comletos a la hora de encotrar relaciones no lineales y generalizar resultados. A pesar de ello el de deep learning tuvo una clara diferencia alcanzando un 98% de los digitos clasificados correctamente. \n",
    "\n",
    "En el resultado real un numero no fue clasificado correctamente, que fue el numero 7 de Diego, si vemos la imagen es muy probable que haya sido por haberle puesto una raya horizontal n medio muy larga, y el dataset no traia los numeros 7 de esta forma. Es por esta razon que es de suma importancia tener datos de entrenamiento lo mas generalizados posibles y con mayor variedad. "
   ]
  },
  {
   "cell_type": "markdown",
   "id": "f9c2d36a",
   "metadata": {},
   "source": [
    "## Ejercicio 2"
   ]
  },
  {
   "cell_type": "code",
   "execution_count": null,
   "id": "ce66aae9",
   "metadata": {},
   "outputs": [],
   "source": [
    "imp = pd.read_excel('IMPORTACION-VOLUMEN-2023-05.xlsx', sheet_name='IMPORTACION',skiprows = 6,\n",
    "                            nrows=270, header=0,usecols= 'A, G, I, K, L, U', engine='openpyxl').dropna()\n",
    "imp.set_index('Fecha', inplace=True)\n",
    "\n",
    "imp = imp[['Gasolina regular']]\n",
    "plt.figure(figsize=(15,6))\n",
    "plt.plot(imp)\n",
    "plt.gca().set(title=\"Volúmen de Importación\", xlabel=\"Mes-Año\", ylabel=\"Cantidad de Galones\")\n",
    "plt.show()"
   ]
  },
  {
   "cell_type": "code",
   "execution_count": null,
   "id": "2a23c80d",
   "metadata": {},
   "outputs": [],
   "source": [
    "imp_train = imp[:'2019-12-01']\n",
    "imp_test = imp['2021-01-01':]"
   ]
  },
  {
   "cell_type": "markdown",
   "id": "65c29332",
   "metadata": {},
   "source": [
    "Dividimos nuestra serie de tiempo en train y test. Para ello evadimo utilizar los datos del 2020, ya que este es un año atípico que puede meter ruido al modelo. Lo entrenaremos con todos los datos hasta diciembre de 2019, y lo testearemos todos los datos desde enero de 2021 hasta mayo de 2023."
   ]
  },
  {
   "cell_type": "code",
   "execution_count": null,
   "id": "89bf9044",
   "metadata": {},
   "outputs": [],
   "source": [
    "plt.figure(figsize=(15,6))\n",
    "plt.plot(imp_train, label='train')\n",
    "plt.plot(imp_test, label='test')\n",
    "plt.legend()\n",
    "plt.gca().set(title=\"Volúmen de Importación\", xlabel=\"Mes-Año\", ylabel=\"Cantidad de Galones\")\n",
    "plt.show()"
   ]
  },
  {
   "cell_type": "markdown",
   "id": "01a4e5c5",
   "metadata": {},
   "source": [
    "### 2.2. Modelos LSTM"
   ]
  },
  {
   "cell_type": "code",
   "execution_count": null,
   "id": "50e19542",
   "metadata": {},
   "outputs": [],
   "source": [
    "print('Resultados del Test de Dickey Fuller')\n",
    "dfTest = adfuller(imp, autolag='AIC')\n",
    "salidaDf = pd.Series(dfTest[0:4], index=['Estadístico de prueba','p-value','# de retardos usados','# de observaciones usadas'])\n",
    "for key,value in dfTest[4].items():\n",
    "        salidaDf['Critical Value (%s)'%key] = value\n",
    "print(salidaDf)"
   ]
  },
  {
   "cell_type": "code",
   "execution_count": null,
   "id": "d8c43779",
   "metadata": {},
   "outputs": [],
   "source": [
    "print('Resultados del Test de Dickey Fuller para una diferenciación de la serie')\n",
    "imp_diff = imp.diff()\n",
    "imp_diff.fillna(0,inplace=True)\n",
    "dfTest = adfuller(imp_diff)\n",
    "salidaDf = pd.Series(dfTest[0:4], index=['Estadístico de prueba','p-value','# de retardos usados','# de observaciones usadas'])\n",
    "for key,value in dfTest[4].items():\n",
    "        salidaDf['Critical Value (%s)'%key] = value\n",
    "print(salidaDf)"
   ]
  },
  {
   "cell_type": "code",
   "execution_count": null,
   "id": "ad2cca4c",
   "metadata": {},
   "outputs": [],
   "source": [
    "scaler = StandardScaler()\n",
    "imp_diff_scaled = scaler.fit_transform(imp_diff) \n",
    "imp_diff_scaled[1:7]"
   ]
  },
  {
   "cell_type": "code",
   "execution_count": null,
   "id": "f8618b01",
   "metadata": {},
   "outputs": [],
   "source": [
    "imp_train = imp_diff_scaled[:-53]\n",
    "imp_val = imp_diff_scaled[-53:-41]\n",
    "imp_test = imp_diff_scaled[-29:]\n",
    "\n",
    "imp_train=np.insert(imp_train,0,0)\n",
    "imp_train=np.reshape(imp_train,(imp_train.shape[0],1))\n",
    "\n",
    "len(imp_train), len(imp_val), len(imp_test)"
   ]
  },
  {
   "cell_type": "code",
   "execution_count": null,
   "id": "994faaad",
   "metadata": {},
   "outputs": [],
   "source": [
    "from operator import concat\n",
    "\n",
    "def supervisada(serie,retrasos = 1):\n",
    "    serie_x = []\n",
    "    serie_y = []\n",
    "    for i in range(len(serie)-retrasos):\n",
    "        valor = serie[i:(i+retrasos),0]\n",
    "        valor_sig = serie[i+retrasos,0]\n",
    "        serie_x.append(valor)\n",
    "        serie_y.append(valor_sig)\n",
    "    return np.array(serie_x), np.array(serie_y)\n",
    "\n",
    "x_train,y_train = supervisada(imp_train)\n",
    "x_val,y_val = supervisada(imp_val)\n",
    "x_test,y_test = supervisada(imp_test)"
   ]
  },
  {
   "cell_type": "code",
   "execution_count": null,
   "id": "330037c0",
   "metadata": {},
   "outputs": [],
   "source": [
    "x_train = np.reshape(x_train,(x_train.shape[0],1,1))\n",
    "x_val = np.reshape(x_val, (x_val.shape[0],1,1))\n",
    "x_test = np.reshape(x_test, (x_test.shape[0],1,1))\n",
    "len(x_val)"
   ]
  },
  {
   "cell_type": "markdown",
   "id": "cc7cc932",
   "metadata": {},
   "source": [
    "#### Modelo 1"
   ]
  },
  {
   "cell_type": "code",
   "execution_count": null,
   "id": "e51d41b2",
   "metadata": {},
   "outputs": [],
   "source": [
    "modelo_2_1 = Sequential()\n",
    "lote = 1\n",
    "unidades =  1\n",
    "paso = 1\n",
    "caracteristicas = 1 #es univariada\n",
    "modelo_2_1.add(LSTM(lote, batch_input_shape=(lote,paso,caracteristicas),stateful=True))\n",
    "modelo_2_1.add(Dense(1))"
   ]
  },
  {
   "cell_type": "code",
   "execution_count": null,
   "id": "6cebd0b4",
   "metadata": {},
   "outputs": [],
   "source": [
    "modelo_2_1.compile(loss='mean_squared_error',optimizer=\"adam\")\n",
    "history_2_1 = modelo_2_1.fit(\n",
    "    x = x_train,\n",
    "    y = y_train,\n",
    "    batch_size = lote,\n",
    "    epochs = 100,\n",
    "    shuffle = False,\n",
    "    validation_data = (x_val,y_val),\n",
    "    verbose=1\n",
    ")"
   ]
  },
  {
   "cell_type": "code",
   "execution_count": null,
   "id": "354a3f8d",
   "metadata": {},
   "outputs": [],
   "source": [
    "print(\"Pérdida en Entrenamiento\")\n",
    "modelo_2_1.evaluate(\n",
    "    x = x_train,\n",
    "    y = y_train\n",
    ")\n",
    "print(\"Pérdida en Validación\")\n",
    "modelo_2_1.evaluate(\n",
    "    x = x_val,\n",
    "    y = y_val\n",
    ")\n",
    "print(\"Pérdida en Prueba\")\n",
    "modelo_2_1.evaluate(\n",
    "    x = x_test,\n",
    "    y = y_test\n",
    ")"
   ]
  },
  {
   "cell_type": "markdown",
   "id": "3ea94cb8",
   "metadata": {},
   "source": [
    "#### Modelo 2"
   ]
  },
  {
   "cell_type": "code",
   "execution_count": null,
   "id": "93965c69",
   "metadata": {},
   "outputs": [],
   "source": [
    "modelo_2_2 = Sequential()\n",
    "lote = 1\n",
    "unidades =  1\n",
    "paso = 1\n",
    "caracteristicas = 1\n",
    "modelo_2_2.add(LSTM(lote, batch_input_shape=(lote,paso,caracteristicas), stateful=True))\n",
    "modelo_2_2.add(Dense(10, activation='relu'))\n",
    "modelo_2_2.add(Dense(1))"
   ]
  },
  {
   "cell_type": "code",
   "execution_count": null,
   "id": "1041cb4f",
   "metadata": {},
   "outputs": [],
   "source": [
    "modelo_2_2.compile(loss='mean_squared_error',optimizer=\"adam\")\n",
    "history_2_2 = modelo1.fit(\n",
    "    x = x_train,\n",
    "    y = y_train,\n",
    "    batch_size = lote,\n",
    "    epochs = 20,\n",
    "    shuffle = False,\n",
    "    validation_data = (x_val,y_val),\n",
    "    verbose=1\n",
    ")"
   ]
  },
  {
   "cell_type": "code",
   "execution_count": null,
   "id": "7900d5a4",
   "metadata": {},
   "outputs": [],
   "source": [
    "y_pred_scaled = modelo_2_2"
   ]
  },
  {
   "cell_type": "markdown",
   "id": "f174f69d",
   "metadata": {},
   "source": [
    "En ambos modelos no vemos una diferencia significativa, pero el segundo le fue ligeramente mejor, demostranod que agregarle capas densas entre la lstm y el resultado final no aporta mucho al modelo."
   ]
  },
  {
   "cell_type": "markdown",
   "id": "8aa50719",
   "metadata": {},
   "source": [
    "### 2.3. Resultados"
   ]
  },
  {
   "cell_type": "code",
   "execution_count": null,
   "id": "978b05e7",
   "metadata": {},
   "outputs": [],
   "source": []
  }
 ],
 "metadata": {
  "kernelspec": {
   "display_name": "Python 3 (ipykernel)",
   "language": "python",
   "name": "python3"
  },
  "language_info": {
   "codemirror_mode": {
    "name": "ipython",
    "version": 3
   },
   "file_extension": ".py",
   "mimetype": "text/x-python",
   "name": "python",
   "nbconvert_exporter": "python",
   "pygments_lexer": "ipython3",
   "version": "3.9.7"
  }
 },
 "nbformat": 4,
 "nbformat_minor": 5
}
